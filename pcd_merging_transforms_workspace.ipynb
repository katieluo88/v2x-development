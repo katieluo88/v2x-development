{
 "cells": [
  {
   "cell_type": "code",
   "execution_count": null,
   "id": "ed7adcd6",
   "metadata": {},
   "outputs": [],
   "source": [
    "%load_ext autoreload\n",
    "%autoreload 2"
   ]
  },
  {
   "cell_type": "code",
   "execution_count": null,
   "id": "0fd9f71f",
   "metadata": {},
   "outputs": [],
   "source": [
    "import numpy as np "
   ]
  },
  {
   "cell_type": "code",
   "execution_count": null,
   "id": "8d0184b9",
   "metadata": {
    "scrolled": true
   },
   "outputs": [],
   "source": [
    "from pypcd4 import PointCloud"
   ]
  },
  {
   "cell_type": "code",
   "execution_count": null,
   "id": "458237fb",
   "metadata": {},
   "outputs": [],
   "source": [
    "import open3d as o3d"
   ]
  },
  {
   "cell_type": "code",
   "execution_count": null,
   "id": "f6ddd2ba",
   "metadata": {},
   "outputs": [],
   "source": [
    "import plotly.io as pio\n",
    "import plotly.graph_objects as go\n",
    "import os.path as osp\n",
    "import os"
   ]
  },
  {
   "cell_type": "code",
   "execution_count": null,
   "id": "411e8504",
   "metadata": {},
   "outputs": [],
   "source": [
    "import math\n",
    "import matplotlib.pyplot as plt"
   ]
  },
  {
   "cell_type": "code",
   "execution_count": null,
   "id": "d5b1f6e4-f775-4e18-a6fa-d7fc402cc7ec",
   "metadata": {},
   "outputs": [],
   "source": [
    "# import plotly.offline as pyo\n",
    "# import plotly.graph_objs as go\n",
    "# # Set notebook mode to work in offline\n",
    "# pyo.init_notebook_mode()\n",
    "# pio.renderers.default = \"notebook_connected\""
   ]
  },
  {
   "cell_type": "code",
   "execution_count": null,
   "id": "af5fadaa",
   "metadata": {},
   "outputs": [],
   "source": [
    "from pyquaternion import Quaternion\n",
    "import time"
   ]
  },
  {
   "cell_type": "code",
   "execution_count": null,
   "id": "d641c7a2",
   "metadata": {},
   "outputs": [],
   "source": [
    "from PIL import Image\n",
    "\n",
    "import csv"
   ]
  },
  {
   "cell_type": "code",
   "execution_count": null,
   "id": "5869cad3",
   "metadata": {},
   "outputs": [],
   "source": [
    "ptc_layout_config={\n",
    "    'title': {\n",
    "        'text': 'test vis LiDAR',\n",
    "        'font': {\n",
    "            'size': 20,\n",
    "            'color': 'rgb(150,150,150)',\n",
    "        },\n",
    "        'xanchor': 'left',\n",
    "        'yanchor': 'top'},\n",
    "    'paper_bgcolor': 'rgb(0,0,0)',\n",
    "    'width' : 900,\n",
    "    'height' : 600,\n",
    "    'margin' : {\n",
    "        'l': 20,\n",
    "        'r': 20,\n",
    "        'b': 20,\n",
    "        't': 20\n",
    "    },\n",
    "    'legend': {\n",
    "        'font':{\n",
    "            'size':20,\n",
    "            'color': 'rgb(150,150,150)',\n",
    "        },\n",
    "        'itemsizing': 'constant'\n",
    "    },\n",
    "    \"hoverlabel\": {\n",
    "        \"namelength\": -1,\n",
    "    },\n",
    "    'showlegend': False,\n",
    "    'scene': {\n",
    "          'aspectmode': 'manual',\n",
    "          'aspectratio': {'x': 0.5, 'y': 0.5, 'z': 0.05},\n",
    "          'camera': {'eye': {'x': 0, 'y': 0, 'z': 0.5}},\n",
    "          'xaxis': {'color': 'rgb(150,150,150)',\n",
    "                    'dtick': 10,\n",
    "                    'gridcolor': 'rgb(100,100,100)',\n",
    "                    'range': [-150, 150],\n",
    "                    'showbackground': False,\n",
    "                    'showgrid': True,\n",
    "                    'showline': False,\n",
    "                    'showticklabels': True,\n",
    "                    'tickmode': 'linear',\n",
    "                    'tickprefix': 'x:'},\n",
    "          'yaxis': {'color': 'rgb(150,150,150)',\n",
    "                    'dtick': 10,\n",
    "                    'gridcolor': 'rgb(100,100,100)',\n",
    "                    'range': [-150, 150],\n",
    "                    'showbackground': False,\n",
    "                    'showgrid': True,\n",
    "                    'showline': False,\n",
    "                    'showticklabels': True,\n",
    "                    'tickmode': 'linear',\n",
    "                    'tickprefix': 'y:'},\n",
    "          'zaxis': {'color': 'rgb(150,150,150)',\n",
    "                    'dtick': 10,\n",
    "                    'gridcolor': 'rgb(100,100,100)',\n",
    "                    'range': [-10, 10],\n",
    "                    'showbackground': False,\n",
    "                    'showgrid': True,\n",
    "                    'showline': False,\n",
    "                    'showticklabels': True,\n",
    "                    'tickmode': 'linear',\n",
    "                    'tickprefix': 'z:'}},\n",
    "}\n",
    "\n",
    "def showvelo(lidar, size=0.8):\n",
    "    vis_lidar = go.Scatter3d(\n",
    "        x=lidar[:,0],\n",
    "        y=lidar[:,1],\n",
    "        z=lidar[:,2],\n",
    "        mode='markers',\n",
    "        marker_color='white',\n",
    "        marker_colorscale='Jet',\n",
    "        marker_size=size)\n",
    "    fig = go.Figure(data=[vis_lidar], layout=ptc_layout_config)\n",
    "    return fig"
   ]
  },
  {
   "cell_type": "code",
   "execution_count": null,
   "id": "4e6659ca",
   "metadata": {},
   "outputs": [],
   "source": [
    "def showvelo_list(all_lidars, colors, size=0.8):\n",
    "    vis_lidars = []\n",
    "    for lidar, color in zip(all_lidars, colors):\n",
    "        vis_lidar = go.Scatter3d(\n",
    "            x=lidar[:,0],\n",
    "            y=lidar[:,1],\n",
    "            z=lidar[:,2],\n",
    "            mode='markers',\n",
    "            marker_color=color,\n",
    "            marker_colorscale='Jet',\n",
    "            marker_size=size)\n",
    "        vis_lidars.append(vis_lidar)\n",
    "    fig = go.Figure(data=vis_lidars, layout=ptc_layout_config)\n",
    "    return fig"
   ]
  },
  {
   "cell_type": "markdown",
   "id": "0313e995",
   "metadata": {},
   "source": [
    "## Transform loading and visualization for a single timestep"
   ]
  },
  {
   "cell_type": "code",
   "execution_count": null,
   "id": "a93cd5f2",
   "metadata": {},
   "outputs": [],
   "source": [
    "pcd_path = \"/media/kluo/Stephany/v2x_dataset/PointCloud/mini_5\"\n",
    "odo_path = \"/media/kluo/Stephany/v2x_dataset/Odometry/mini_5\"\n",
    "odo_003_path = osp.join(odo_path, \"odometry_003.csv\")"
   ]
  },
  {
   "cell_type": "code",
   "execution_count": null,
   "id": "d10cfbd0",
   "metadata": {},
   "outputs": [],
   "source": [
    "pcd_003_file = osp.join(pcd_path, \"003_2_1712121036.478564522.pcd\")\n",
    "# pcd = o3d.io.read_point_cloud(pcd_003_file)\n",
    "pc = PointCloud.from_path(pcd_003_file)"
   ]
  },
  {
   "cell_type": "code",
   "execution_count": null,
   "id": "a1d6542c",
   "metadata": {},
   "outputs": [],
   "source": [
    "pc.fields"
   ]
  },
  {
   "cell_type": "code",
   "execution_count": null,
   "id": "d2f31964-2ec2-4bad-bca9-f856d581675e",
   "metadata": {},
   "outputs": [],
   "source": [
    "# pc_data = pc.pc_data\n",
    "# pc_data.numpy()\n",
    "# pcd_003 = np.asarray(pcd.points)\n",
    "pcd_003 = pc.numpy((\"x\", \"y\", \"z\"))\n",
    "pcd_intensity = pc.numpy([\"intensity\"])\n",
    "print(\"output array from input list : \", pcd_003, pcd_003.shape) \n",
    "print(pcd_intensity, pcd_intensity.shape, type(pcd_intensity))"
   ]
  },
  {
   "cell_type": "code",
   "execution_count": null,
   "id": "06b98571",
   "metadata": {},
   "outputs": [],
   "source": [
    "indices = np.random.choice(pcd_003.shape[0], 50000, replace=False)\n",
    "out_arr_subsampled = pcd_003[indices]"
   ]
  },
  {
   "cell_type": "code",
   "execution_count": null,
   "id": "2bacdcce",
   "metadata": {},
   "outputs": [],
   "source": [
    "out_arr_subsampled.shape"
   ]
  },
  {
   "cell_type": "code",
   "execution_count": null,
   "id": "e108cd59",
   "metadata": {},
   "outputs": [],
   "source": [
    "# showvelo(out_arr_subsampled)"
   ]
  },
  {
   "cell_type": "code",
   "execution_count": null,
   "id": "4676ff8d",
   "metadata": {},
   "outputs": [],
   "source": [
    "pcd_top_file = osp.join(pcd_path, \"top_2_1712121036.473970102.pcd\")\n",
    "# pcd = o3d.io.read_point_cloud(pcd_top_file)\n",
    "pc = PointCloud.from_path(pcd_top_file)\n",
    "# pcd_top = np.asarray(pcd.points)  \n",
    "pcd_top = pc.numpy((\"x\", \"y\", \"z\"))\n",
    "pcd_intensity = pc.numpy([\"intensity\"])\n",
    "print(pcd_intensity, pcd_intensity.shape, type(pcd_intensity))\n",
    "print(\"output array from input list : \", pcd_top, pcd_top.shape) "
   ]
  },
  {
   "cell_type": "code",
   "execution_count": null,
   "id": "c5fa0f3c",
   "metadata": {},
   "outputs": [],
   "source": [
    "indices = np.random.choice(pcd_top.shape[0], 50000, replace=False)\n",
    "pcd_top_subsampled = pcd_top[indices]\n",
    "# showvelo(pcd_top_subsampled)"
   ]
  },
  {
   "cell_type": "code",
   "execution_count": null,
   "id": "9b1cc625",
   "metadata": {},
   "outputs": [],
   "source": [
    "pcd_dome_path = osp.join(pcd_path, \"dome_2_1712121036.534912380.pcd\")\n",
    "# pcd = o3d.io.read_point_cloud(pcd_dome_path)\n",
    "# pcd_dome = np.asarray(pcd.points)  \n",
    "pc = PointCloud.from_path(pcd_dome_path)\n",
    "pcd_dome = pc.numpy((\"x\", \"y\", \"z\"))\n",
    "pcd_intensity = pc.numpy([\"intensity\"])\n",
    "print(pcd_intensity, pcd_intensity.shape, type(pcd_intensity))\n",
    "print(\"output array from input list : \", pcd_dome, pcd_dome.shape) "
   ]
  },
  {
   "cell_type": "code",
   "execution_count": null,
   "id": "082a1325",
   "metadata": {},
   "outputs": [],
   "source": [
    "indices = np.random.choice(pcd_dome.shape[0], 50000, replace=False)\n",
    "pcd_dom_subsampled = pcd_dome[indices]\n",
    "# showvelo(pcd_dom_subsampled)"
   ]
  },
  {
   "cell_type": "code",
   "execution_count": null,
   "id": "01b0e0c4",
   "metadata": {},
   "outputs": [],
   "source": [
    "# showvelo_list([pcd_dom_subsampled, pcd_top_subsampled], ['white', 'yellow'], size=0.9)"
   ]
  },
  {
   "cell_type": "code",
   "execution_count": null,
   "id": "fafecd19",
   "metadata": {},
   "outputs": [],
   "source": [
    "odo_data = {}\n",
    "header_idx_map = {}\n",
    "with open(odo_003_path, mode ='r')as file:\n",
    "    odo_003_reader = csv.reader(file)\n",
    "    for i, lines in enumerate(odo_003_reader):\n",
    "        if i == 0:  # header line\n",
    "            for j, header_title in enumerate(lines):\n",
    "                odo_data[header_title] = []\n",
    "                header_idx_map[j] = header_title\n",
    "        else:  # datas\n",
    "            for j, data in enumerate(lines):\n",
    "                odo_data[header_idx_map[j]].append(data)\n",
    "#         print(i)"
   ]
  },
  {
   "cell_type": "code",
   "execution_count": null,
   "id": "e61993ab",
   "metadata": {},
   "outputs": [],
   "source": [
    "odo_003_path"
   ]
  },
  {
   "cell_type": "code",
   "execution_count": null,
   "id": "a0beca11",
   "metadata": {},
   "outputs": [],
   "source": [
    "# odo_data.keys()"
   ]
  },
  {
   "cell_type": "code",
   "execution_count": null,
   "id": "e2aea980",
   "metadata": {},
   "outputs": [],
   "source": [
    "len(odo_data['field.pose.pose.position.x'])"
   ]
  },
  {
   "cell_type": "code",
   "execution_count": null,
   "id": "12acee22",
   "metadata": {},
   "outputs": [],
   "source": [
    "pcd_top_file, pcd_dome_path, pcd_003_file"
   ]
  },
  {
   "cell_type": "code",
   "execution_count": null,
   "id": "56940aa7",
   "metadata": {},
   "outputs": [],
   "source": [
    "pcd_003_file.split(\"/\")[-1].split(\"_\")[-1][:-4]"
   ]
  },
  {
   "cell_type": "code",
   "execution_count": null,
   "id": "1792452c",
   "metadata": {},
   "outputs": [],
   "source": [
    "math.isclose(float(odo_data['field.header.stamp'][2]) / 1e9, float(pcd_003_file.split(\"/\")[-1].split(\"_\")[-1][:-4]))"
   ]
  },
  {
   "cell_type": "code",
   "execution_count": null,
   "id": "5dbf7730",
   "metadata": {},
   "outputs": [],
   "source": [
    "# transforming for timestep 2\n",
    "i = 2\n",
    "odo_translation = np.array([odo_data['field.pose.pose.position.x'][i],\n",
    "                            odo_data['field.pose.pose.position.y'][i],\n",
    "                            odo_data['field.pose.pose.position.z'][i],])\n",
    "odo_rotation = np.array([odo_data['field.pose.pose.orientation.w'][i],\n",
    "                         odo_data['field.pose.pose.orientation.x'][i],\n",
    "                         odo_data['field.pose.pose.orientation.y'][i],\n",
    "                         odo_data['field.pose.pose.orientation.z'][i],])\n",
    "odo_translation, odo_rotation"
   ]
  },
  {
   "cell_type": "code",
   "execution_count": null,
   "id": "f7e137f5",
   "metadata": {},
   "outputs": [],
   "source": [
    "def transform_matrix(\n",
    "    translation: np.ndarray = np.array([0, 0, 0]),\n",
    "    rotation: Quaternion = Quaternion([1, 0, 0, 0]),\n",
    "    inverse: bool = False,\n",
    ") -> np.ndarray:\n",
    "    \"\"\"Convert pose to transformation matrix.\n",
    "\n",
    "    Args:\n",
    "        translation: <np.float32: 3>. Translation in x, y, z.\n",
    "        rotation: Rotation in quaternions (w ri rj rk).\n",
    "        inverse: Whether to compute inverse transform matrix.\n",
    "\n",
    "    Returns: <np.float32: 4, 4>. Transformation matrix.\n",
    "\n",
    "    \"\"\"\n",
    "    tm = np.eye(4)\n",
    "\n",
    "    if inverse:\n",
    "        rot_inv = rotation.rotation_matrix.T\n",
    "        trans = np.transpose(-np.array(translation))\n",
    "        tm[:3, :3] = rot_inv\n",
    "        tm[:3, 3] = rot_inv.dot(trans)\n",
    "    else:\n",
    "        tm[:3, :3] = rotation.rotation_matrix\n",
    "        tm[:3, 3] = np.transpose(np.array(translation))\n",
    "\n",
    "    return tm"
   ]
  },
  {
   "cell_type": "code",
   "execution_count": null,
   "id": "f6c0722f",
   "metadata": {},
   "outputs": [],
   "source": [
    "car_from_map = transform_matrix(odo_translation, Quaternion(odo_rotation), inverse=False,)\n",
    "car_from_map"
   ]
  },
  {
   "cell_type": "code",
   "execution_count": null,
   "id": "6b919241",
   "metadata": {},
   "outputs": [],
   "source": [
    "pcd_003_from_map = car_from_map.dot(np.vstack((pcd_003.T, np.ones(pcd_003.shape[0]))))[:3, :]\n",
    "pcd_003_from_map.shape"
   ]
  },
  {
   "cell_type": "code",
   "execution_count": null,
   "id": "eff3b78b",
   "metadata": {},
   "outputs": [],
   "source": [
    "indices = np.random.choice(pcd_003_from_map.shape[1], 50000, replace=False)\n",
    "pcd_003_subsampled = pcd_003_from_map.T[indices]\n",
    "showvelo(pcd_003_subsampled)"
   ]
  },
  {
   "cell_type": "code",
   "execution_count": null,
   "id": "2b3ffe59",
   "metadata": {},
   "outputs": [],
   "source": [
    "showvelo_list([pcd_dom_subsampled, pcd_top_subsampled, pcd_003_subsampled], ['white', 'yellow', 'cyan'], size=0.9)"
   ]
  },
  {
   "cell_type": "code",
   "execution_count": null,
   "id": "df1c161e",
   "metadata": {},
   "outputs": [],
   "source": [
    "odo_path"
   ]
  },
  {
   "cell_type": "code",
   "execution_count": null,
   "id": "36a2c363",
   "metadata": {},
   "outputs": [],
   "source": [
    "odo_004_path = osp.join(odo_path, \"odometry_004.csv\")  # \"/media/kluo/Stephany/v2x_dataset/odometry_27/odometry_004.csv\"\n",
    "odo_laser_path = osp.join(odo_path, \"odometry_laser.csv\")  # \"/media/kluo/Stephany/v2x_dataset/odometry_27/odometry_laser.csv\"\n",
    "\n",
    "pcd_004_file = osp.join(pcd_path, \"004_2_1712121036.497643697.pcd\")\n",
    "pcd_laser_file = osp.join(pcd_path, \"laser_2_1712121036.507276110.pcd\")"
   ]
  },
  {
   "cell_type": "code",
   "execution_count": null,
   "id": "7a5d6017",
   "metadata": {},
   "outputs": [],
   "source": [
    "# pcd = o3d.io.read_point_cloud(pcd_004_file)\n",
    "# pcd_004 = np.asarray(pcd.points)\n",
    "\n",
    "# pcd = o3d.io.read_point_cloud(pcd_laser_file)\n",
    "# pcd_laser = np.asarray(pcd.points)\n",
    "\n",
    "pc = PointCloud.from_path(pcd_004_file)\n",
    "pcd_004 = pc.numpy((\"x\", \"y\", \"z\"))\n",
    "\n",
    "pc = PointCloud.from_path(pcd_laser_file)\n",
    "pcd_laser = pc.numpy((\"x\", \"y\", \"z\"))"
   ]
  },
  {
   "cell_type": "code",
   "execution_count": null,
   "id": "8935a2e4",
   "metadata": {},
   "outputs": [],
   "source": [
    "pcd_laser.shape"
   ]
  },
  {
   "cell_type": "code",
   "execution_count": null,
   "id": "7067a864",
   "metadata": {},
   "outputs": [],
   "source": [
    "odo_004_data = {}\n",
    "header_idx_map = {}\n",
    "with open(odo_004_path, mode ='r')as file:\n",
    "    reader = csv.reader(file)\n",
    "    for i, lines in enumerate(reader):\n",
    "        if i == 0:  # header line\n",
    "            for j, header_title in enumerate(lines):\n",
    "                odo_004_data[header_title] = []\n",
    "                header_idx_map[j] = header_title\n",
    "        else:  # datas\n",
    "            for j, data in enumerate(lines):\n",
    "                odo_004_data[header_idx_map[j]].append(data)\n"
   ]
  },
  {
   "cell_type": "code",
   "execution_count": null,
   "id": "d2550360",
   "metadata": {},
   "outputs": [],
   "source": [
    "odo_laser_data = {}\n",
    "header_idx_map = {}\n",
    "with open(odo_laser_path, mode ='r')as file:\n",
    "    reader = csv.reader(file)\n",
    "    for i, lines in enumerate(reader):\n",
    "        if i == 0:  # header line\n",
    "            for j, header_title in enumerate(lines):\n",
    "                odo_laser_data[header_title] = []\n",
    "                header_idx_map[j] = header_title\n",
    "        else:  # datas\n",
    "            for j, data in enumerate(lines):\n",
    "                odo_laser_data[header_idx_map[j]].append(data)"
   ]
  },
  {
   "cell_type": "code",
   "execution_count": null,
   "id": "31f904e4",
   "metadata": {},
   "outputs": [],
   "source": [
    "# transforming for timestep 2\n",
    "i = 2\n",
    "odo_translation = np.array([odo_004_data['field.pose.pose.position.x'][i],\n",
    "                            odo_004_data['field.pose.pose.position.y'][i],\n",
    "                            odo_004_data['field.pose.pose.position.z'][i],])\n",
    "odo_rotation = np.array([odo_004_data['field.pose.pose.orientation.w'][i],\n",
    "                         odo_004_data['field.pose.pose.orientation.x'][i],\n",
    "                         odo_004_data['field.pose.pose.orientation.y'][i],\n",
    "                         odo_004_data['field.pose.pose.orientation.z'][i],])\n",
    "car04_from_map = transform_matrix(odo_translation, Quaternion(odo_rotation), inverse=False,)\n",
    "pcd_004_from_map = car04_from_map.dot(np.vstack((pcd_004.T, np.ones(pcd_004.shape[0]))))[:3, :]"
   ]
  },
  {
   "cell_type": "code",
   "execution_count": null,
   "id": "de059a5a",
   "metadata": {},
   "outputs": [],
   "source": [
    "# transforming for timestep 2\n",
    "i = 2\n",
    "odo_translation = np.array([odo_laser_data['field.pose.pose.position.x'][i],\n",
    "                            odo_laser_data['field.pose.pose.position.y'][i],\n",
    "                            odo_laser_data['field.pose.pose.position.z'][i],])\n",
    "odo_rotation = np.array([odo_laser_data['field.pose.pose.orientation.w'][i],\n",
    "                         odo_laser_data['field.pose.pose.orientation.x'][i],\n",
    "                         odo_laser_data['field.pose.pose.orientation.y'][i],\n",
    "                         odo_laser_data['field.pose.pose.orientation.z'][i],])\n",
    "carlaser_from_map = transform_matrix(odo_translation, Quaternion(odo_rotation), inverse=False,)\n",
    "pcd_laser_from_map = carlaser_from_map.dot(np.vstack((pcd_laser.T, np.ones(pcd_laser.shape[0]))))[:3, :]"
   ]
  },
  {
   "cell_type": "code",
   "execution_count": null,
   "id": "feb29cbe",
   "metadata": {},
   "outputs": [],
   "source": [
    "indices = np.random.choice(pcd_004_from_map.shape[1], 50000, replace=False)\n",
    "pcd_004_subsampled = pcd_004_from_map.T[indices]\n",
    "indices = np.random.choice(pcd_laser_from_map.shape[1], 50000, replace=False)\n",
    "pcd_laser_subsampled = pcd_laser_from_map.T[indices]\n",
    "\n",
    "showvelo_list([pcd_dom_subsampled, pcd_top_subsampled, pcd_003_subsampled, pcd_004_subsampled, pcd_laser_subsampled], \n",
    "              ['white', 'yellow', 'cyan', 'green', 'red'], size=0.9)"
   ]
  },
  {
   "cell_type": "code",
   "execution_count": null,
   "id": "d5e8b092",
   "metadata": {},
   "outputs": [],
   "source": [
    "points_list = [pcd_dom_subsampled, pcd_top_subsampled, pcd_003_subsampled, pcd_004_subsampled, pcd_laser_subsampled]\n",
    "points = np.concatenate(points_list, axis=0)\n",
    "indexes = np.concatenate([np.ones((pcd.shape[0],1)) * i for i, pcd in enumerate(points_list)], axis=0)\n",
    "points.shape, indexes, indexes.shape"
   ]
  },
  {
   "cell_type": "code",
   "execution_count": null,
   "id": "a76ec449",
   "metadata": {},
   "outputs": [],
   "source": [
    "pc = PointCloud.from_xyzl_points(np.concatenate([points, indexes], axis=1), label_type=np.uint32)\n",
    "pc.fields"
   ]
  },
  {
   "cell_type": "code",
   "execution_count": null,
   "id": "56de0ff8",
   "metadata": {},
   "outputs": [],
   "source": [
    "pc.save(\"mini_5_02.pcd\")"
   ]
  },
  {
   "cell_type": "code",
   "execution_count": null,
   "id": "45617042",
   "metadata": {},
   "outputs": [],
   "source": [
    "pc = PointCloud.from_path(\"mini_5_02.pcd\")\n",
    "pcd_all = pc.numpy((\"x\", \"y\", \"z\"))\n",
    "pcd_labels = pc.numpy([\"label\"])\n",
    "pcd_labels"
   ]
  },
  {
   "cell_type": "code",
   "execution_count": null,
   "id": "98a63df3",
   "metadata": {
    "scrolled": false
   },
   "outputs": [],
   "source": [
    "# showvelo(pcd_all)"
   ]
  },
  {
   "cell_type": "markdown",
   "id": "49add53f",
   "metadata": {},
   "source": [
    "## Pull all files relevant to single timestep"
   ]
  },
  {
   "cell_type": "code",
   "execution_count": null,
   "id": "51fa9927",
   "metadata": {},
   "outputs": [],
   "source": [
    "def load_odometry(odometry_file):\n",
    "    odo_data = {}\n",
    "    header_idx_map = {}\n",
    "    with open(odometry_file, mode ='r')as file:\n",
    "        reader = csv.reader(file)\n",
    "        for i, lines in enumerate(reader):\n",
    "            if i == 0:  # header line\n",
    "                for j, header_title in enumerate(lines):\n",
    "                    odo_data[header_title] = []\n",
    "                    header_idx_map[j] = header_title\n",
    "            else:  # datas\n",
    "                for j, data in enumerate(lines):\n",
    "                    odo_data[header_idx_map[j]].append(data)\n",
    "    return odo_data"
   ]
  },
  {
   "cell_type": "code",
   "execution_count": null,
   "id": "e47196e0",
   "metadata": {},
   "outputs": [],
   "source": [
    "def load_pcd_from_file(pcd_filename):\n",
    "    pc = PointCloud.from_path(pcd_filename)\n",
    "    pcd_numpy = pc.numpy((\"x\", \"y\", \"z\"))\n",
    "    return pcd_numpy"
   ]
  },
  {
   "cell_type": "code",
   "execution_count": null,
   "id": "c1748a65",
   "metadata": {},
   "outputs": [],
   "source": [
    "def heading_corr_int(transformation, intersection_center):\n",
    "    translation = transformation[:3, 3]\n",
    "    pose_disp = intersection_center - translation[:-1] #only get x,y\n",
    "    heading = transformation.dot(np.array([1, 0, 0, 0]))\n",
    "    return heading[:-2] @ (pose_disp / np.linalg.norm(pose_disp))"
   ]
  },
  {
   "cell_type": "code",
   "execution_count": null,
   "id": "170d3007",
   "metadata": {},
   "outputs": [],
   "source": [
    "def get_transform_from_odometry(odometry_dict, i, stamp, offs=1.7e9, return_logging=False):\n",
    "    odo_logged_stamp = float(odometry_dict['field.header.stamp'][i]) / 1e9\n",
    "    # print(odo_logged_stamp, stamp)\n",
    "    while not math.isclose(odo_logged_stamp - offs, stamp - offs):\n",
    "        # print(\"logged stamp not the same as file name:\", odo_logged_stamp, stamp)\n",
    "        if odo_logged_stamp > stamp: # decrement odometry index\n",
    "            i -= 1\n",
    "            odo_logged_stamp = float(odometry_dict['field.header.stamp'][i]) / 1e9\n",
    "        else:  # incrememnt odometry index\n",
    "            i += 1\n",
    "            odo_logged_stamp = float(odometry_dict['field.header.stamp'][i]) / 1e9\n",
    "    odo_translation = np.array([float(odometry_dict['field.pose.pose.position.x'][i]),\n",
    "                            float(odometry_dict['field.pose.pose.position.y'][i]),\n",
    "                            float(odometry_dict['field.pose.pose.position.z'][i]),])\n",
    "    odo_rotation = np.array([float(odometry_dict['field.pose.pose.orientation.w'][i]),\n",
    "                             float(odometry_dict['field.pose.pose.orientation.x'][i]),\n",
    "                             float(odometry_dict['field.pose.pose.orientation.y'][i]),\n",
    "                             float(odometry_dict['field.pose.pose.orientation.z'][i]),])\n",
    "    carlaser_from_map = transform_matrix(odo_translation, Quaternion(odo_rotation), inverse=False,)\n",
    "    if return_logging:\n",
    "        odo_velocity = np.array([float(odometry_dict['field.twist.twist.linear.x'][i]),\n",
    "                                 float(odometry_dict['field.twist.twist.linear.y'][i]),\n",
    "                                 float(odometry_dict['field.twist.twist.linear.z'][i]),])\n",
    "        odo_angular_vel = np.array([float(odometry_dict['field.twist.twist.angular.x'][i]),\n",
    "                                 float(odometry_dict['field.twist.twist.angular.y'][i]),\n",
    "                                 float(odometry_dict['field.twist.twist.angular.z'][i]),])\n",
    "        return carlaser_from_map, odo_translation, odo_rotation, odo_velocity, odo_angular_vel\n",
    "    else:\n",
    "        return carlaser_from_map, odo_translation"
   ]
  },
  {
   "cell_type": "code",
   "execution_count": null,
   "id": "6a63ca5f",
   "metadata": {},
   "outputs": [],
   "source": [
    "scene_id = 5\n",
    "pcd_path = f\"/media/kluo/Stephany/v2x_dataset/PointCloud/mini_{scene_id}\"\n",
    "odo_path = f\"/media/kluo/Stephany/v2x_dataset/Odometry/mini_{scene_id}\"\n",
    "odo_003_path = osp.join(odo_path, \"odometry_003.csv\")\n",
    "odo_004_path = osp.join(odo_path, \"odometry_004.csv\")\n",
    "odo_laser_path = osp.join(odo_path, \"odometry_laser.csv\") \n",
    "\n",
    "odo_003 = load_odometry(odo_003_path)\n",
    "odo_004 = load_odometry(odo_004_path)\n",
    "odo_laser = load_odometry(odo_laser_path)"
   ]
  },
  {
   "cell_type": "code",
   "execution_count": null,
   "id": "4ca3a3ef",
   "metadata": {},
   "outputs": [],
   "source": [
    "def check_stamp(stamp):\n",
    "    stamp_split = stamp.split(\".\")\n",
    "    if len(stamp_split[-1]) < 9:\n",
    "        stamp_split[-1] = \"0\" * (9 - len(stamp_split[-1])) + stamp_split[-1]\n",
    "    return \".\".join(stamp_split)"
   ]
  },
  {
   "cell_type": "code",
   "execution_count": null,
   "id": "3b7a5395",
   "metadata": {},
   "outputs": [],
   "source": [
    "# store all filepaths according to their header\n",
    "all_filepaths = {}\n",
    "for f in os.listdir(pcd_path):\n",
    "    if f.split(\".\")[-1] != \"pcd\":\n",
    "        continue\n",
    "    sensor, ts, stamp = f.split(\"_\")\n",
    "    stamp = check_stamp(stamp[:-4])\n",
    "    stamp = float(stamp)\n",
    "    if sensor not in all_filepaths:\n",
    "        all_filepaths[sensor] = {ts: (f, stamp)}\n",
    "    else:\n",
    "        all_filepaths[sensor][ts] = (f, stamp)\n",
    "all_filepaths"
   ]
  },
  {
   "cell_type": "code",
   "execution_count": null,
   "id": "d6d3cd01",
   "metadata": {},
   "outputs": [],
   "source": [
    "all_filepaths.keys()"
   ]
  },
  {
   "cell_type": "code",
   "execution_count": null,
   "id": "7f5a508e",
   "metadata": {},
   "outputs": [],
   "source": [
    "timestep = 200\n",
    "\n",
    "pcd_004_file = osp.join(pcd_path, all_filepaths[\"004\"][str(timestep)][0])\n",
    "pcd_laser_file = osp.join(pcd_path, all_filepaths[\"laser\"][str(timestep)][0])\n",
    "pcd_003_file = osp.join(pcd_path, all_filepaths[\"003\"][str(timestep)][0])\n",
    "pcd_dome_file = osp.join(pcd_path, all_filepaths[\"dome\"][str(timestep)][0])\n",
    "pcd_top_file = osp.join(pcd_path, all_filepaths[\"top\"][str(timestep)][0])\n",
    "\n",
    "pcd_004 = load_pcd_from_file(pcd_004_file)\n",
    "pcd_003 = load_pcd_from_file(pcd_003_file)\n",
    "pcd_laser = load_pcd_from_file(pcd_laser_file)\n",
    "pcd_dome = load_pcd_from_file(pcd_dome_file)\n",
    "pcd_top = load_pcd_from_file(pcd_top_file)"
   ]
  },
  {
   "cell_type": "code",
   "execution_count": null,
   "id": "83ba80bc",
   "metadata": {},
   "outputs": [],
   "source": [
    "for k, v in all_filepaths.items():\n",
    "    print(k, v[str(timestep)][1])"
   ]
  },
  {
   "cell_type": "code",
   "execution_count": null,
   "id": "599f1998",
   "metadata": {},
   "outputs": [],
   "source": [
    "print(all_filepaths[\"laser\"][str(timestep)][1])\n",
    "get_transform_from_odometry(odo_laser, timestep, all_filepaths[\"laser\"][str(timestep)][1])"
   ]
  },
  {
   "cell_type": "code",
   "execution_count": null,
   "id": "8f64de78",
   "metadata": {},
   "outputs": [],
   "source": [
    "# convert cars into map\n",
    "car003_from_map, car003_trans = get_transform_from_odometry(odo_003, timestep, all_filepaths[\"003\"][str(timestep)][1])\n",
    "pcd_003_from_map = car003_from_map.dot(np.vstack((pcd_003.T, np.ones(pcd_003.shape[0]))))[:3, :]\n",
    "\n",
    "car004_from_map, car004_trans = get_transform_from_odometry(odo_004, timestep, all_filepaths[\"004\"][str(timestep)][1])\n",
    "pcd_004_from_map = car004_from_map.dot(np.vstack((pcd_004.T, np.ones(pcd_004.shape[0]))))[:3, :]\n",
    "\n",
    "carlaser_from_map, carlaser_trans = get_transform_from_odometry(odo_laser, timestep, all_filepaths[\"laser\"][str(timestep)][1])\n",
    "pcd_laser_from_map = carlaser_from_map.dot(np.vstack((pcd_laser.T, np.ones(pcd_laser.shape[0]))))[:3, :]"
   ]
  },
  {
   "cell_type": "code",
   "execution_count": null,
   "id": "9cf1995b",
   "metadata": {},
   "outputs": [],
   "source": [
    "pcd_003_from_map.shape"
   ]
  },
  {
   "cell_type": "code",
   "execution_count": null,
   "id": "f8d13d84",
   "metadata": {},
   "outputs": [],
   "source": [
    "indices = np.random.choice(pcd_003_from_map.shape[1], 50000, replace=False)\n",
    "pcd_003_subsampled = pcd_003_from_map.T[indices]\n",
    "indices = np.random.choice(pcd_004_from_map.shape[1], 50000, replace=False)\n",
    "pcd_004_subsampled = pcd_004_from_map.T[indices]\n",
    "indices = np.random.choice(pcd_laser_from_map.shape[1], 50000, replace=False)\n",
    "pcd_laser_subsampled = pcd_laser_from_map.T[indices]\n",
    "\n",
    "indices = np.random.choice(pcd_dome.shape[0], 50000, replace=False)\n",
    "pcd_dom_subsampled = pcd_dome[indices]\n",
    "indices = np.random.choice(pcd_top.shape[0], 50000, replace=False)\n",
    "pcd_top_subsampled = pcd_top[indices]\n",
    "\n",
    "# pcd_003_subsampled = np.zeros((0, 3))\n",
    "# pcd_004_subsampled = np.zeros((0, 3))\n",
    "\n",
    "showvelo_list([pcd_dom_subsampled, pcd_top_subsampled, pcd_003_subsampled, pcd_004_subsampled, pcd_laser_subsampled], \n",
    "              ['white', 'yellow', 'cyan', 'green', 'red'], size=0.9)"
   ]
  },
  {
   "cell_type": "code",
   "execution_count": null,
   "id": "52fe884c",
   "metadata": {},
   "outputs": [],
   "source": [
    "intersection_center = np.array([-34.5, -65.5])\n",
    "corr = heading_corr_int(car003_from_map, intersection_center)\n",
    "corr"
   ]
  },
  {
   "cell_type": "code",
   "execution_count": null,
   "id": "f406f9c8",
   "metadata": {},
   "outputs": [],
   "source": [
    "def filter_car(transformation, intersection_center, dist_thresh=45, upper_thresh=75, heading_corr_thresh=0.809):\n",
    "    translation = transformation[:3, 3]\n",
    "    if np.linalg.norm(translation[:-1] - intersection_center) < dist_thresh:\n",
    "        return True\n",
    "    elif np.linalg.norm(translation[:-1] - intersection_center) < upper_thresh and heading_corr_int(transformation, intersection_center) > heading_corr_thresh:\n",
    "        return True\n",
    "    else:\n",
    "        return False"
   ]
  },
  {
   "cell_type": "code",
   "execution_count": null,
   "id": "63f196c5",
   "metadata": {},
   "outputs": [],
   "source": [
    "intersection_center = np.array([-34.5, -65.5])\n",
    "\n",
    "# np.linalg.norm(car003_trans[:-1] - intersection_center), np.linalg.norm(car004_trans[:-1] - intersection_center), np.linalg.norm(carlaser_trans[:-1] - intersection_center)\n",
    "pcd_003_subsampled = pcd_003_subsampled if filter_car(car003_from_map, intersection_center) else np.zeros((0,3))\n",
    "pcd_004_subsampled = pcd_004_subsampled if filter_car(car004_from_map, intersection_center) else np.zeros((0,3))\n",
    "pcd_laser_subsampled = pcd_laser_subsampled if filter_car(carlaser_from_map, intersection_center) else np.zeros((0,3))\n",
    "\n",
    "# indices = np.random.choice(pcd_dome.shape[0], 50000, replace=False)\n",
    "# pcd_dom_subsampled = pcd_dome[indices]\n",
    "# indices = np.random.choice(pcd_top.shape[0], 50000, replace=False)\n",
    "# pcd_top_subsampled = pcd_top[indices]\n",
    "\n",
    "# showvelo_list([pcd_dom_subsampled, pcd_top_subsampled, pcd_003_subsampled, pcd_004_subsampled, pcd_laser_subsampled], \n",
    "#               ['white', 'yellow', 'cyan', 'green', 'red'], size=0.7)"
   ]
  },
  {
   "cell_type": "markdown",
   "id": "61c559e3",
   "metadata": {},
   "source": [
    "## Check this filtering works for all 37 bags"
   ]
  },
  {
   "cell_type": "code",
   "execution_count": null,
   "id": "f90e667c",
   "metadata": {
    "scrolled": true
   },
   "outputs": [],
   "source": [
    "tot_num_bags = 37\n",
    "# tot_num_timesteps = 298\n",
    "intersection_center = np.array([-34.5, -65.5])\n",
    "# dict_keys(['003', 'dome', 'laser', '004', 'top'])\n",
    "sensor_to_idx_map = {'003': 0, 'laser': 2, '004': 1}\n",
    "\n",
    "start_timesteps = np.zeros((tot_num_bags), dtype=int)\n",
    "end_timesteps = np.zeros((tot_num_bags), dtype=int)\n",
    "\n",
    "for scene_id in range(1, tot_num_bags + 1):\n",
    "    print(\"scene_id:\", scene_id)\n",
    "    pcd_path = f\"/media/kluo/Stephany/v2x_dataset/PointCloud/mini_{scene_id}\"\n",
    "    odo_path = f\"/media/kluo/Stephany/v2x_dataset/Odometry/mini_{scene_id}\"\n",
    "    \n",
    "    # store all filepaths according to their header\n",
    "    all_filepaths = {}\n",
    "    for f in os.listdir(pcd_path):\n",
    "        if f.split(\".\")[-1] != \"pcd\":\n",
    "            continue\n",
    "        sensor, ts, stamp = f.split(\"_\")\n",
    "        stamp = check_stamp(stamp[:-4])\n",
    "        stamp = float(stamp)\n",
    "        if sensor not in all_filepaths:\n",
    "            all_filepaths[sensor] = {ts: (f, stamp)}\n",
    "        else:\n",
    "            all_filepaths[sensor][ts] = (f, stamp)\n",
    "    all_sensors_list = list(all_filepaths.keys())\n",
    "    \n",
    "    tot_num_timesteps = len(all_filepaths[\"top\"])  \n",
    "    vis_sensor_include = np.zeros((3, 300))\n",
    "    print(\"old num_timesteps:\", tot_num_timesteps)\n",
    "    \n",
    "    for sensor in all_sensors_list:\n",
    "        assert tot_num_timesteps == len(all_filepaths[\"dome\"])\n",
    "        if sensor in (\"top\", \"dome\"): # skip for now\n",
    "            print(sensor)\n",
    "        else:\n",
    "            odometry_path = osp.join(odo_path, f\"odometry_{sensor}.csv\")\n",
    "            odometry = load_odometry(odometry_path) \n",
    "            for timestep in range(tot_num_timesteps):\n",
    "                # only considering odometry for now; ptc will be merged in next cell\n",
    "                T_sensor_from_map, _ = get_transform_from_odometry(odometry, \n",
    "                                                                   timestep, \n",
    "                                                                   all_filepaths[sensor][str(timestep)][1])\n",
    "                include_sensor = filter_car(T_sensor_from_map, intersection_center)\n",
    "                vis_sensor_include[sensor_to_idx_map[sensor], timestep] = 1. if include_sensor else 0.\n",
    "    null_timesteps = np.where(vis_sensor_include.sum(axis=0) == 0)[0]\n",
    "    if null_timesteps[0] > 0:\n",
    "        end_timesteps[scene_id - 1] = null_timesteps[0]\n",
    "    else:\n",
    "        start_timesteps[scene_id - 1], end_timesteps[scene_id - 1] = 45, 298\n",
    "    tot_num_timesteps = end_timesteps[scene_id - 1] - start_timesteps[scene_id - 1]\n",
    "    print(\"filtered num_timesteps:\", tot_num_timesteps)\n",
    "    plt.figure(figsize=(6, 1))\n",
    "    plt.imshow(vis_sensor_include, aspect='auto', vmin=0, vmax=1)\n",
    "    plt.show()"
   ]
  },
  {
   "cell_type": "markdown",
   "id": "63d3ba63",
   "metadata": {},
   "source": [
    "# Process all files merged"
   ]
  },
  {
   "cell_type": "code",
   "execution_count": null,
   "id": "1d257fe4",
   "metadata": {
    "scrolled": true
   },
   "outputs": [],
   "source": [
    "start_timesteps, end_timesteps"
   ]
  },
  {
   "cell_type": "code",
   "execution_count": null,
   "id": "45a370cd",
   "metadata": {},
   "outputs": [],
   "source": [
    "sensor_to_rgb_map = {'003': np.array([204, 102, 153]), \n",
    "                     '004': np.array([255, 153, 51]),\n",
    "                     'laser': np.array([255, 255, 153]), \n",
    "                     'top': np.array([0, 102, 255]), \n",
    "                     'dome': np.array([0, 204, 102])}"
   ]
  },
  {
   "cell_type": "code",
   "execution_count": null,
   "id": "5028dca7",
   "metadata": {},
   "outputs": [],
   "source": [
    "all_sensors_list.sort()"
   ]
  },
  {
   "cell_type": "code",
   "execution_count": null,
   "id": "94555eb9",
   "metadata": {},
   "outputs": [],
   "source": [
    "all_sensors_list"
   ]
  },
  {
   "cell_type": "code",
   "execution_count": null,
   "id": "d91fab73",
   "metadata": {
    "scrolled": true
   },
   "outputs": [],
   "source": [
    "tot_num_bags = 37\n",
    "intersection_center = np.array([-34.5, -65.5])\n",
    "\n",
    "for scene_id in range(1, tot_num_bags + 1):\n",
    "    print(\"*************** scene_id:\", scene_id)\n",
    "    pcd_path = f\"/media/kluo/Stephany/v2x_dataset/PointCloud/mini_{scene_id}\"\n",
    "    odo_path = f\"/media/kluo/Stephany/v2x_dataset/Odometry/mini_{scene_id}\"\n",
    "    \n",
    "    merged_dir = f\"/media/kluo/Stephany/v2x_dataset/MergedPointCloud/mini_{scene_id}/\"\n",
    "    \n",
    "    # store all filepaths according to their header\n",
    "    all_filepaths = {}\n",
    "    for f in os.listdir(pcd_path):\n",
    "        if f.split(\".\")[-1] != \"pcd\":\n",
    "            continue\n",
    "        sensor, ts, stamp = f.split(\"_\")\n",
    "        stamp = check_stamp(stamp[:-4])\n",
    "        stamp = float(stamp)\n",
    "        if sensor not in all_filepaths:\n",
    "            all_filepaths[sensor] = {ts: (f, stamp)}\n",
    "        else:\n",
    "            all_filepaths[sensor][ts] = (f, stamp)\n",
    "    all_sensors_list = list(all_filepaths.keys())\n",
    "    all_sensors_list.sort()\n",
    "            \n",
    "    for timestep in range(start_timesteps[scene_id - 1], end_timesteps[scene_id - 1]):\n",
    "        included_sensors_list = []\n",
    "        all_points_scene_ts = []\n",
    "        for sensor in all_sensors_list:\n",
    "            pcd_file = osp.join(pcd_path, all_filepaths[sensor][str(timestep)][0])\n",
    "            pcd_points = load_pcd_from_file(pcd_file)\n",
    "\n",
    "            if sensor in (\"top\", \"dome\"):\n",
    "                all_points_scene_ts.append(pcd_points)\n",
    "                included_sensors_list.append(sensor)\n",
    "            else:\n",
    "                odometry_path = osp.join(odo_path, f\"odometry_{sensor}.csv\")\n",
    "                odometry = load_odometry(odometry_path) \n",
    "                T_sensor_from_map, _ = get_transform_from_odometry(odometry, \n",
    "                                                                   timestep, \n",
    "                                                                   all_filepaths[sensor][str(timestep)][1])\n",
    "                include_sensor = filter_car(T_sensor_from_map, intersection_center)\n",
    "                \n",
    "                if include_sensor:\n",
    "                    included_sensors_list.append(sensor)\n",
    "                    pcd_from_map = T_sensor_from_map.dot(np.vstack((pcd_points.T,\n",
    "                                                                    np.ones(pcd_points.shape[0]))))[:3, :].T\n",
    "                    all_points_scene_ts.append(pcd_from_map)\n",
    "        points = np.concatenate(all_points_scene_ts, axis=0)\n",
    "        colors_rgb = np.concatenate([np.repeat(sensor_to_rgb_map[s][np.newaxis,:], pcd.shape[0], axis=0) for s, pcd in zip(included_sensors_list, all_points_scene_ts)], axis=0)\n",
    "        colors = PointCloud.encode_rgb(colors_rgb)\n",
    "        pc = PointCloud.from_xyzrgb_points(np.concatenate([points, colors.reshape(-1, 1)], axis=1))\n",
    "        merged_filepath = osp.join(merged_dir, f\"merged_{timestep}.pcd\")\n",
    "        pc.save(merged_filepath)\n",
    "        print(merged_filepath, points.shape[0])\n"
   ]
  },
  {
   "cell_type": "code",
   "execution_count": null,
   "id": "ae9c84c1",
   "metadata": {},
   "outputs": [],
   "source": [
    "# rule: 45m away, or  facing intersection within 75m, 36 degrees "
   ]
  },
  {
   "cell_type": "code",
   "execution_count": null,
   "id": "10ae8b91",
   "metadata": {},
   "outputs": [],
   "source": [
    "# load merged pointcloud\n",
    "# transform to intersection center\n",
    "# mask points outside of 75m from center\n",
    "# transform back to map coords"
   ]
  },
  {
   "cell_type": "code",
   "execution_count": null,
   "id": "97afe96e",
   "metadata": {},
   "outputs": [],
   "source": [
    "# pc = PointCloud.from_path(\"/media/kluo/Stephany/v2x_dataset/MergedPointCloud/mini_1/merged_4.pcd\")\n",
    "# pcd_all = pc.numpy((\"x\", \"y\", \"z\"))"
   ]
  },
  {
   "cell_type": "code",
   "execution_count": null,
   "id": "c3a4abd3",
   "metadata": {},
   "outputs": [],
   "source": [
    "# pcd_vis = pcd_all[np.random.choice(pcd_all.shape[0], 50000, replace=False)]"
   ]
  },
  {
   "cell_type": "code",
   "execution_count": null,
   "id": "6a6b8580",
   "metadata": {},
   "outputs": [],
   "source": [
    "# showvelo(pcd_vis)"
   ]
  },
  {
   "cell_type": "code",
   "execution_count": null,
   "id": "1b75be8a",
   "metadata": {},
   "outputs": [],
   "source": [
    "cloud = o3d.io.read_point_cloud('/media/kluo/Stephany/v2x_dataset/MergedPointCloud/mini_5/merged_200.pcd')\n",
    "o3d.visualization.draw_geometries([cloud])"
   ]
  },
  {
   "cell_type": "markdown",
   "id": "9e09ddae",
   "metadata": {},
   "source": [
    "## Saving Info For Dataset Devkit"
   ]
  },
  {
   "cell_type": "code",
   "execution_count": null,
   "id": "c839fa16",
   "metadata": {},
   "outputs": [],
   "source": [
    "import json"
   ]
  },
  {
   "cell_type": "code",
   "execution_count": null,
   "id": "e9a8adee",
   "metadata": {},
   "outputs": [],
   "source": [
    "save_dir = f\"./merged_info/\"\n",
    "\n",
    "dome_trans_x = -41.507\n",
    "dome_trans_y = -51.864\n",
    "dome_trans_z =  -1.340\n",
    "dome_rot_x =  0.587\n",
    "dome_rot_y =  0.809\n",
    "dome_rot_z =  0.015\n",
    "dome_rot_w = -0.001\n",
    "\n",
    "top_trans_x = -41.551\n",
    "top_trans_y = -51.878\n",
    "top_trans_z = -1.077\n",
    "top_rot_x =  0.160 \n",
    "top_rot_y = -0.121 \n",
    "top_rot_z =  0.797 \n",
    "top_rot_w =  0.570\n",
    "\n",
    "rsu_poses = {\n",
    "    \"dome\": {\n",
    "        \"transl\": [dome_trans_x, dome_trans_y, dome_trans_z],\n",
    "        \"rota\": [dome_rot_x, dome_rot_y, dome_rot_z, dome_rot_w]\n",
    "    },\n",
    "    \"top\": {\n",
    "        \"transl\": [top_trans_x, top_trans_y, top_trans_z],\n",
    "        \"rota\": [top_rot_x, top_rot_y, top_rot_z, top_rot_w]\n",
    "    }\n",
    "}"
   ]
  },
  {
   "cell_type": "code",
   "execution_count": null,
   "id": "9b37c8aa",
   "metadata": {
    "scrolled": true
   },
   "outputs": [],
   "source": [
    "tot_num_bags = 37\n",
    "intersection_center = np.array([-34.5, -65.5])\n",
    "\n",
    "for scene_id in range(1, tot_num_bags + 1):\n",
    "    print(\"*************** scene_id:\", scene_id)\n",
    "    pcd_path = f\"/media/kluo/Stephany/v2x_dataset/PointCloud/mini_{scene_id}\"\n",
    "    odo_path = f\"/media/kluo/Stephany/v2x_dataset/Odometry/mini_{scene_id}\"\n",
    "    \n",
    "    # store all filepaths according to their header\n",
    "    all_filepaths = {}\n",
    "    for f in os.listdir(pcd_path):\n",
    "        if f.split(\".\")[-1] != \"pcd\":\n",
    "            continue\n",
    "        sensor, ts, stamp = f.split(\"_\")\n",
    "        stamp = check_stamp(stamp[:-4])\n",
    "        stamp = float(stamp)\n",
    "        if sensor not in all_filepaths:\n",
    "            all_filepaths[sensor] = {ts: (f, stamp)}\n",
    "        else:\n",
    "            all_filepaths[sensor][ts] = (f, stamp)\n",
    "    all_sensors_list = list(all_filepaths.keys())\n",
    "    all_sensors_list.sort()\n",
    "    \n",
    "    scene_infos = []\n",
    "    for timestep in range(start_timesteps[scene_id - 1], end_timesteps[scene_id - 1]):\n",
    "        timestep_infos = {}\n",
    "        for sensor in all_sensors_list:\n",
    "            \n",
    "            pcd_file = osp.join(f\"v2x_dataset/PointCloud/mini_{scene_id}\", all_filepaths[sensor][str(timestep)][0])\n",
    "\n",
    "            if sensor in (\"top\", \"dome\"):  # always include\n",
    "                timestep_infos[sensor] = {\n",
    "                    \"timestamp\": all_filepaths[sensor][str(timestep)][1],\n",
    "                    \"pcd_filepath\": pcd_file,\n",
    "                    \"pose_translation\": {\n",
    "                        \"x\": 0., \n",
    "                        \"y\": 0., \n",
    "                        \"z\": 0.,\n",
    "                    },\n",
    "                    \"pose_rotation\": {\n",
    "                        \"x\": 0., \n",
    "                        \"y\": 0., \n",
    "                        \"z\": 0., \n",
    "                        \"w\": 1.,\n",
    "                    },\n",
    "                    \"velocity\": None,\n",
    "                    \"angular\": None,\n",
    "                }\n",
    "            else:\n",
    "                odometry_path = osp.join(odo_path, f\"odometry_{sensor}.csv\")\n",
    "                odometry = load_odometry(odometry_path) \n",
    "                T_sensor_from_map, transl, rota, vel, ang_vel = get_transform_from_odometry(odometry, \n",
    "                                                                   timestep, \n",
    "                                                                   all_filepaths[sensor][str(timestep)][1],\n",
    "                                                                   return_logging=True)\n",
    "                include_sensor = filter_car(T_sensor_from_map, intersection_center)\n",
    "                \n",
    "                if include_sensor:\n",
    "                    #included_sensors_list.append(sensor)\n",
    "                    timestep_infos[sensor] = {\n",
    "                        \"timestamp\": all_filepaths[sensor][str(timestep)][1],\n",
    "                        \"pcd_filepath\": pcd_file,\n",
    "                        \"pose_translation\": {\"x\": transl[0], \"y\": transl[1], \"z\": transl[2],},\n",
    "                        \"pose_rotation\": {\"x\": rota[1], \"y\": rota[2], \"z\": rota[3], \"w\": rota[0],},\n",
    "                        \"velocity\": {\"x\": vel[0], \"y\": vel[1], \"z\": vel[2],},\n",
    "                        \"angular_vel\": {\"x\": ang_vel[0], \"y\": ang_vel[1], \"z\": ang_vel[2],},\n",
    "                    }\n",
    "        scene_infos.append(timestep_infos)\n",
    "                    \n",
    "    save_path = osp.join(save_dir, f\"info_{scene_id}.jsonl\")\n",
    "    # Writing JSON lines to a file\n",
    "    with open(save_path, 'w') as file:\n",
    "        for entry in scene_infos:\n",
    "            json_line = json.dumps(entry)  # Convert dictionary to JSON string\n",
    "            file.write(json_line + '\\n')  # Write the JSON string to file and move to the next line"
   ]
  },
  {
   "cell_type": "code",
   "execution_count": null,
   "id": "f687b951",
   "metadata": {
    "scrolled": true
   },
   "outputs": [],
   "source": [
    "# check one file, see if it's ok\n",
    "scene_id = 5\n",
    "timestep = 200\n",
    "\n",
    "scene_info = []\n",
    "with open(osp.join(save_dir, f\"info_{scene_id}.jsonl\"), \"r\") as file:\n",
    "    for line in file:\n",
    "        scene_info.append(json.loads(line))\n",
    "len(scene_info), scene_info[timestep]"
   ]
  },
  {
   "cell_type": "code",
   "execution_count": null,
   "id": "1696f82c",
   "metadata": {},
   "outputs": [],
   "source": [
    "scene_timestep_info = scene_info[timestep]\n",
    "\n",
    "all_points_scene_ts = []\n",
    "included_sensors_list = []\n",
    "for sensor, sensor_infos in scene_timestep_info.items():\n",
    "    if sensor == \"labeled\":\n",
    "        print(sensor_infos)\n",
    "        continue\n",
    "    pcd_path = sensor_infos['pcd_filepath']\n",
    "    print(sensor_infos['timestamp'])\n",
    "    pcd_file = osp.join(\"/media/kluo/Stephany/\", pcd_path)\n",
    "    pcd_points = load_pcd_from_file(pcd_file)\n",
    "\n",
    "    if sensor in (\"top\", \"dome\"):\n",
    "        all_points_scene_ts.append(pcd_points)\n",
    "        included_sensors_list.append(sensor)\n",
    "    else:\n",
    "        odo_translation = np.array([\n",
    "            sensor_infos['pose_translation']['x'], \n",
    "            sensor_infos['pose_translation']['y'],\n",
    "            sensor_infos['pose_translation']['z'],\n",
    "        ])\n",
    "        odo_rotation = np.array([\n",
    "            sensor_infos['pose_rotation']['w'],\n",
    "            sensor_infos['pose_rotation']['x'],\n",
    "            sensor_infos['pose_rotation']['y'],\n",
    "            sensor_infos['pose_rotation']['z'],\n",
    "        ])\n",
    "        T_sensor_from_map = transform_matrix(odo_translation, Quaternion(odo_rotation), inverse=False,)\n",
    "        included_sensors_list.append(sensor)\n",
    "        pcd_from_map = T_sensor_from_map.dot(np.vstack((pcd_points.T,\n",
    "                                                        np.ones(pcd_points.shape[0]))))[:3, :].T\n",
    "        all_points_scene_ts.append(pcd_from_map)\n",
    "points = np.concatenate(all_points_scene_ts, axis=0)\n",
    "colors_rgb = np.concatenate([np.repeat(sensor_to_rgb_map[s][np.newaxis,:], pcd.shape[0], axis=0) for s, pcd in zip(included_sensors_list, all_points_scene_ts)], axis=0)\n",
    "colors = PointCloud.encode_rgb(colors_rgb)\n",
    "pc = PointCloud.from_xyzrgb_points(np.concatenate([points, colors.reshape(-1, 1)], axis=1))"
   ]
  },
  {
   "cell_type": "code",
   "execution_count": null,
   "id": "b27159a9",
   "metadata": {},
   "outputs": [],
   "source": [
    "scene_timestep_info.keys()"
   ]
  },
  {
   "cell_type": "code",
   "execution_count": null,
   "id": "6ba8d40c",
   "metadata": {},
   "outputs": [],
   "source": [
    "pc.save(\"./temp.pcd\")"
   ]
  },
  {
   "cell_type": "code",
   "execution_count": null,
   "id": "ecbdc1f5",
   "metadata": {
    "scrolled": true
   },
   "outputs": [],
   "source": [
    "cloud = o3d.io.read_point_cloud(\"./temp.pcd\")\n",
    "o3d.visualization.draw_geometries([cloud])"
   ]
  },
  {
   "cell_type": "code",
   "execution_count": null,
   "id": "a4885261",
   "metadata": {},
   "outputs": [],
   "source": []
  }
 ],
 "metadata": {
  "kernelspec": {
   "display_name": "Python 3 (ipykernel)",
   "language": "python",
   "name": "python3"
  },
  "language_info": {
   "codemirror_mode": {
    "name": "ipython",
    "version": 3
   },
   "file_extension": ".py",
   "mimetype": "text/x-python",
   "name": "python",
   "nbconvert_exporter": "python",
   "pygments_lexer": "ipython3",
   "version": "3.11.5"
  }
 },
 "nbformat": 4,
 "nbformat_minor": 5
}
