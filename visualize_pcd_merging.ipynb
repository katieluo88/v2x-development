{
 "cells": [
  {
   "cell_type": "code",
   "execution_count": null,
   "id": "ed7adcd6",
   "metadata": {},
   "outputs": [],
   "source": [
    "%load_ext autoreload\n",
    "%autoreload 2"
   ]
  },
  {
   "cell_type": "code",
   "execution_count": null,
   "id": "0fd9f71f",
   "metadata": {},
   "outputs": [],
   "source": [
    "import numpy as np \n",
    "import open3d as o3d"
   ]
  },
  {
   "cell_type": "code",
   "execution_count": null,
   "id": "f6ddd2ba",
   "metadata": {},
   "outputs": [],
   "source": [
    "import plotly.io as pio\n",
    "import plotly.graph_objects as go"
   ]
  },
  {
   "cell_type": "code",
   "execution_count": null,
   "id": "d641c7a2",
   "metadata": {},
   "outputs": [],
   "source": [
    "from PIL import Image"
   ]
  },
  {
   "cell_type": "code",
   "execution_count": null,
   "id": "d10cfbd0",
   "metadata": {},
   "outputs": [],
   "source": [
    "pcd = o3d.io.read_point_cloud(\"/media/kluo/Stephany2G/Test_RSU/1712121931.894937827.pcd\")\n",
    "out_arr = np.asarray(pcd.points)  \n",
    "print(\"output array from input list : \", out_arr)  "
   ]
  },
  {
   "cell_type": "code",
   "execution_count": null,
   "id": "e7bd7d3a",
   "metadata": {},
   "outputs": [],
   "source": [
    "pcd"
   ]
  },
  {
   "cell_type": "code",
   "execution_count": null,
   "id": "db20305b",
   "metadata": {},
   "outputs": [],
   "source": [
    "out_arr.shape"
   ]
  },
  {
   "cell_type": "code",
   "execution_count": null,
   "id": "5869cad3",
   "metadata": {},
   "outputs": [],
   "source": [
    "ptc_layout_config={\n",
    "    'title': {\n",
    "        'text': 'test vis LiDAR',\n",
    "        'font': {\n",
    "            'size': 20,\n",
    "            'color': 'rgb(150,150,150)',\n",
    "        },\n",
    "        'xanchor': 'left',\n",
    "        'yanchor': 'top'},\n",
    "    'paper_bgcolor': 'rgb(0,0,0)',\n",
    "    'width' : 900,\n",
    "    'height' : 600,\n",
    "    'margin' : {\n",
    "        'l': 20,\n",
    "        'r': 20,\n",
    "        'b': 20,\n",
    "        't': 20\n",
    "    },\n",
    "    'legend': {\n",
    "        'font':{\n",
    "            'size':20,\n",
    "            'color': 'rgb(150,150,150)',\n",
    "        },\n",
    "        'itemsizing': 'constant'\n",
    "    },\n",
    "    \"hoverlabel\": {\n",
    "        \"namelength\": -1,\n",
    "    },\n",
    "    'showlegend': False,\n",
    "    'scene': {\n",
    "          'aspectmode': 'manual',\n",
    "          'aspectratio': {'x': 0.25, 'y': 0.25, 'z': 0.25},\n",
    "          'camera': {'eye': {'x': 0, 'y': 0, 'z': 0.5}},\n",
    "          'xaxis': {'color': 'rgb(150,150,150)',\n",
    "                    'dtick': 10,\n",
    "                    'gridcolor': 'rgb(100,100,100)',\n",
    "                    'range': [-150, 150],\n",
    "                    'showbackground': False,\n",
    "                    'showgrid': True,\n",
    "                    'showline': False,\n",
    "                    'showticklabels': True,\n",
    "                    'tickmode': 'linear',\n",
    "                    'tickprefix': 'x:'},\n",
    "          'yaxis': {'color': 'rgb(150,150,150)',\n",
    "                    'dtick': 10,\n",
    "                    'gridcolor': 'rgb(100,100,100)',\n",
    "                    'range': [-250, 150],\n",
    "                    'showbackground': False,\n",
    "                    'showgrid': True,\n",
    "                    'showline': False,\n",
    "                    'showticklabels': True,\n",
    "                    'tickmode': 'linear',\n",
    "                    'tickprefix': 'y:'},\n",
    "          'zaxis': {'color': 'rgb(150,150,150)',\n",
    "                    'dtick': 10,\n",
    "                    'gridcolor': 'rgb(100,100,100)',\n",
    "                    'range': [-50, 50],\n",
    "                    'showbackground': False,\n",
    "                    'showgrid': True,\n",
    "                    'showline': False,\n",
    "                    'showticklabels': True,\n",
    "                    'tickmode': 'linear',\n",
    "                    'tickprefix': 'z:'}},\n",
    "}\n",
    "\n",
    "def showvelo(lidar, size=0.8):\n",
    "    vis_lidar = go.Scatter3d(\n",
    "        x=lidar[:,0],\n",
    "        y=lidar[:,1],\n",
    "        z=lidar[:,2],\n",
    "        mode='markers',\n",
    "        marker_color='white',\n",
    "        marker_colorscale='Jet',\n",
    "        marker_size=size)\n",
    "    fig = go.Figure(data=[vis_lidar], layout=ptc_layout_config)\n",
    "    return fig"
   ]
  },
  {
   "cell_type": "code",
   "execution_count": null,
   "id": "06b98571",
   "metadata": {},
   "outputs": [],
   "source": [
    "indices = np.random.choice(out_arr.shape[0], 85196, replace=False)\n",
    "out_arr_subsampled = out_arr[indices]"
   ]
  },
  {
   "cell_type": "code",
   "execution_count": null,
   "id": "2bacdcce",
   "metadata": {},
   "outputs": [],
   "source": [
    "out_arr_subsampled.shape"
   ]
  },
  {
   "cell_type": "code",
   "execution_count": null,
   "id": "e108cd59",
   "metadata": {},
   "outputs": [],
   "source": [
    "showvelo(out_arr_subsampled)"
   ]
  },
  {
   "cell_type": "code",
   "execution_count": null,
   "id": "636ef79f",
   "metadata": {},
   "outputs": [],
   "source": []
  }
 ],
 "metadata": {
  "kernelspec": {
   "display_name": "Python 3 (ipykernel)",
   "language": "python",
   "name": "python3"
  },
  "language_info": {
   "codemirror_mode": {
    "name": "ipython",
    "version": 3
   },
   "file_extension": ".py",
   "mimetype": "text/x-python",
   "name": "python",
   "nbconvert_exporter": "python",
   "pygments_lexer": "ipython3",
   "version": "3.11.5"
  }
 },
 "nbformat": 4,
 "nbformat_minor": 5
}
