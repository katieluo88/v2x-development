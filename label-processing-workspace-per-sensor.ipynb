{
 "cells": [
  {
   "cell_type": "code",
   "execution_count": null,
   "id": "6874fa49",
   "metadata": {},
   "outputs": [],
   "source": [
    "import json\n",
    "import numpy as np\n",
    "from pyquaternion import Quaternion"
   ]
  },
  {
   "cell_type": "code",
   "execution_count": null,
   "id": "4ac2d27a",
   "metadata": {},
   "outputs": [],
   "source": [
    "import pickle"
   ]
  },
  {
   "cell_type": "code",
   "execution_count": null,
   "id": "66d1b191",
   "metadata": {},
   "outputs": [],
   "source": [
    "import open3d as o3d\n",
    "import plotly.io as pio\n",
    "import plotly.graph_objects as go\n",
    "import os.path as osp\n",
    "import os\n",
    "import math\n",
    "import matplotlib.pyplot as plt\n",
    "import time\n",
    "import csv"
   ]
  },
  {
   "cell_type": "code",
   "execution_count": null,
   "id": "a636f295",
   "metadata": {},
   "outputs": [],
   "source": [
    "o3d.__version__"
   ]
  },
  {
   "cell_type": "code",
   "execution_count": null,
   "id": "b3ec3387",
   "metadata": {},
   "outputs": [],
   "source": [
    "import copy"
   ]
  },
  {
   "cell_type": "code",
   "execution_count": null,
   "id": "67aec490",
   "metadata": {},
   "outputs": [],
   "source": [
    "data_dir = \"/media/kluo/My Passport/v2x_dataset\"\n",
    "\n",
    "scene_id = 18\n",
    "\n",
    "\n",
    "scene_infos = []\n",
    "with open(osp.join(data_dir, \"merged_info_updated\", f\"info_{scene_id}.jsonl\"), \"r\") as file:\n",
    "    for line in file:\n",
    "        scene_infos.append(json.loads(line))\n",
    "len(scene_infos), scene_infos[0]"
   ]
  },
  {
   "cell_type": "code",
   "execution_count": null,
   "id": "49330ede",
   "metadata": {},
   "outputs": [],
   "source": [
    "# check number of labeled timeframes matches\n",
    "sum([info['labeled'] for info in scene_infos])"
   ]
  },
  {
   "cell_type": "markdown",
   "id": "22dd1c97",
   "metadata": {},
   "source": [
    "## Labels for the scene"
   ]
  },
  {
   "cell_type": "code",
   "execution_count": null,
   "id": "db383836",
   "metadata": {},
   "outputs": [],
   "source": [
    "with open(osp.join(data_dir, \"scene18_refined_annos.pkl\"), \"rb\") as f:\n",
    "    per_sensor_labels = pickle.load(f)\n",
    "per_sensor_labels.keys()"
   ]
  },
  {
   "cell_type": "code",
   "execution_count": null,
   "id": "ac67e1df",
   "metadata": {},
   "outputs": [],
   "source": [
    "# check yaws are the same???\n",
    "def quaternion_yaw(q: Quaternion) -> float:\n",
    "    \"\"\"\n",
    "    Calculate the yaw angle from a quaternion.\n",
    "    Note that this only works for a quaternion that represents a box in lidar or global coordinate frame.\n",
    "    It does not work for a box in the camera frame.\n",
    "    :param q: Quaternion of interest.\n",
    "    :return: Yaw angle in radians.\n",
    "    \"\"\"\n",
    "\n",
    "    # Project into xy plane.\n",
    "    v = np.dot(q.rotation_matrix, np.array([1, 0, 0]))\n",
    "\n",
    "    # Measure yaw using arctan.\n",
    "    yaw = np.arctan2(v[1], v[0])\n",
    "\n",
    "    return yaw"
   ]
  },
  {
   "cell_type": "code",
   "execution_count": null,
   "id": "15111a6e",
   "metadata": {},
   "outputs": [],
   "source": [
    "category_to_color_map = {\n",
    "    1: [1., 0.8, 0.9], #car\n",
    "    2: [0.8, 0.8, 1.], #ped\n",
    "    3: [1., 1., 1.], #truck\n",
    "    4: [0.8, 1., 0.8], #bike\n",
    "}"
   ]
  },
  {
   "cell_type": "code",
   "execution_count": null,
   "id": "70af6f78",
   "metadata": {
    "scrolled": true
   },
   "outputs": [],
   "source": [
    "per_sensor_labels['top'][0]"
   ]
  },
  {
   "cell_type": "markdown",
   "id": "dcb17d6e",
   "metadata": {},
   "source": [
    "## Make a quick video"
   ]
  },
  {
   "cell_type": "code",
   "execution_count": null,
   "id": "41c3dbcb",
   "metadata": {},
   "outputs": [],
   "source": [
    "view_status_dometop = \"\"\"{\n",
    "\t\"class_name\" : \"ViewTrajectory\",\n",
    "\t\"interval\" : 29,\n",
    "\t\"is_loop\" : false,\n",
    "\t\"trajectory\" : \n",
    "\t[\n",
    "\t\t{\n",
    "\t\t\t\"boundingbox_max\" : [ 218.3385009765625, 76.248146057128906, 20.960601806640625 ],\n",
    "\t\t\t\"boundingbox_min\" : [ -180.83258056640625, -149.74227905273438, -11.554059028625488 ],\n",
    "\t\t\t\"field_of_view\" : 60.0,\n",
    "\t\t\t\"front\" : [ 0.14969908237785134, -0.80852446648900111, 0.56910312933940677 ],\n",
    "\t\t\t\"lookat\" : [ -33.459614649965793, -65.170023496217837, -3.7534205763743964 ],\n",
    "\t\t\t\"up\" : [ -0.072208736619961217, 0.56511189561377617, 0.82184818780085778 ],\n",
    "\t\t\t\"zoom\" : 0.059999999999999609\n",
    "\t\t}\n",
    "\t],\n",
    "\t\"version_major\" : 1,\n",
    "\t\"version_minor\" : 0\n",
    "}\"\"\"\n",
    "view_status_003 = \"\"\"{\n",
    "\t\"class_name\" : \"ViewTrajectory\",\n",
    "\t\"interval\" : 29,\n",
    "\t\"is_loop\" : false,\n",
    "\t\"trajectory\" : \n",
    "\t[\n",
    "\t\t{\n",
    "\t\t\t\"boundingbox_max\" : [ 143.39578, 39.981537000000003, 20.3521 ],\n",
    "\t\t\t\"boundingbox_min\" : [ -77.780579000000003, -26.723534000000001, -2.9170704000000001 ],\n",
    "\t\t\t\"field_of_view\" : 60.0,\n",
    "\t\t\t\"front\" : [ -0.8788139935861029, 0.064951891427763711, 0.47272319223537279 ],\n",
    "\t\t\t\"lookat\" : [ -27.450282764100578, 1.4187824521767032, 35.302548704627732 ],\n",
    "\t\t\t\"up\" : [ 0.47615991748266312, 0.055121053390291934, 0.87762942205468952 ],\n",
    "\t\t\t\"zoom\" : 0.02\n",
    "\t\t}\n",
    "\t],\n",
    "\t\"version_major\" : 1,\n",
    "\t\"version_minor\" : 0\n",
    "}\"\"\"\n",
    "\n",
    "view_status_004 = \"\"\"{\n",
    "\t\"class_name\" : \"ViewTrajectory\",\n",
    "\t\"interval\" : 29,\n",
    "\t\"is_loop\" : false,\n",
    "\t\"trajectory\" : \n",
    "\t[\n",
    "\t\t{\n",
    "\t\t\t\"boundingbox_max\" : [ 115.07069, 45.020473000000003, 17.247612 ],\n",
    "\t\t\t\"boundingbox_min\" : [ -59.609820999999997, -65.848395999999994, -2.9546332 ],\n",
    "\t\t\t\"field_of_view\" : 60.0,\n",
    "\t\t\t\"front\" : [ -0.84668236447518408, 0.0089610073709900182, 0.53202318937580972 ],\n",
    "\t\t\t\"lookat\" : [ 5.8921459746849258, -0.40136187399394252, 5.3581494394887308 ],\n",
    "\t\t\t\"up\" : [ 0.53205120823209162, 0.00090611543299307616, 0.84671169282914349 ],\n",
    "\t\t\t\"zoom\" : 0.12000000000000001\n",
    "\t\t}\n",
    "\t],\n",
    "\t\"version_major\" : 1,\n",
    "\t\"version_minor\" : 0\n",
    "}\"\"\"\n",
    "\n",
    "view_status_by_sensor = {\n",
    "    \"top\": view_status_dometop,\n",
    "    \"dome\": view_status_dometop,\n",
    "    \"003\": view_status_003,\n",
    "    \"004\": view_status_004\n",
    "}"
   ]
  },
  {
   "cell_type": "code",
   "execution_count": null,
   "id": "65bc9dad",
   "metadata": {},
   "outputs": [],
   "source": [
    "def lerp(start, end, step, total_steps):\n",
    "    return start + (end - start) * (step / total_steps)\n",
    "\n",
    "def interpolate_annotations(label_frames_data, freq=10.):\n",
    "    interpolated_labels_data = {}\n",
    "    timesteps = list(label_frames_data.keys())\n",
    "    timesteps.sort()\n",
    "    for i in timesteps[:-1]:\n",
    "        current_frame = label_frames_data[i]\n",
    "        next_frame = label_frames_data[i + 10]\n",
    "        interpolated_labels_data[i] = current_frame\n",
    "        \n",
    "        # Build a map of next positions\n",
    "        next_positions = {obj['track_id']: obj for obj in next_frame}\n",
    "        offs = 1.7e18  #offset for numerical stability\n",
    "        for j in range(1, freq):\n",
    "            interpolated_frame = {}\n",
    "            \n",
    "            interp_annotations = []\n",
    "            # Only interpolate if the object exists in both current and next frame\n",
    "            for obj in current_frame:\n",
    "                if obj['track_id'] in next_positions:\n",
    "                    interp_obj = copy.deepcopy(obj)\n",
    "                    next_obj = next_positions[obj['track_id']]\n",
    "                    \n",
    "                    # update is_keyframe, position, rotation, yaw\n",
    "                    interp_obj['is_keyframe'] = False\n",
    "                    \n",
    "                    interp_obj['position']['x'] = lerp(obj['position']['x'], next_obj['position']['x'], j, freq)\n",
    "                    interp_obj['position']['y'] = lerp(obj['position']['y'], next_obj['position']['y'], j, freq)\n",
    "                    interp_obj['position']['z'] = lerp(obj['position']['z'], next_obj['position']['z'], j, freq)\n",
    "                    \n",
    "                    obj_r = Quaternion(obj['rotation']['qw'], obj['rotation']['qx'], obj['rotation']['qy'], obj['rotation']['qz'],)\n",
    "                    next_r = Quaternion(next_obj['rotation']['qw'], next_obj['rotation']['qx'], next_obj['rotation']['qy'], next_obj['rotation']['qz'],)\n",
    "                    q  = Quaternion.slerp(obj_r, next_r, j / freq) \n",
    "                    qw, qx, qy, qz = q.elements\n",
    "                    interp_obj['rotation']['qx'] = qx\n",
    "                    interp_obj['rotation']['qy'] = qy\n",
    "                    interp_obj['rotation']['qz'] = qz\n",
    "                    interp_obj['rotation']['qw'] = qw\n",
    "                    interp_obj['yaw'] = quaternion_yaw(q)\n",
    "                    \n",
    "                    interp_annotations.append(interp_obj)\n",
    "            interpolated_frame[\"annotations\"] = interp_annotations\n",
    "            # interpolated_labels_data.append(interpolated_frame)\n",
    "            interpolated_labels_data[i + j] = interp_annotations\n",
    "                    \n",
    "    interpolated_labels_data[timesteps[-1]] = next_frame  # Add the last frame\n",
    "    return interpolated_labels_data"
   ]
  },
  {
   "cell_type": "code",
   "execution_count": null,
   "id": "0c17d3e8",
   "metadata": {},
   "outputs": [],
   "source": [
    "interpolated_label_frames_sensor = {}\n",
    "for sensor, label_frames in per_sensor_labels.items():\n",
    "    interpolated_label_frames = interpolate_annotations(label_frames, 10)\n",
    "    interpolated_label_frames_sensor[sensor] = interpolated_label_frames"
   ]
  },
  {
   "cell_type": "code",
   "execution_count": null,
   "id": "54810b17",
   "metadata": {},
   "outputs": [],
   "source": [
    "len(interpolated_label_frames_sensor['top']), len(interpolated_label_frames_sensor['dome']), len(interpolated_label_frames_sensor['004'])"
   ]
  },
  {
   "cell_type": "code",
   "execution_count": null,
   "id": "dc467fd3",
   "metadata": {},
   "outputs": [],
   "source": [
    "interpolated_label_frames_sensor['top'].keys()"
   ]
  },
  {
   "cell_type": "code",
   "execution_count": null,
   "id": "5d36db39",
   "metadata": {},
   "outputs": [],
   "source": [
    "interpolated_label_frames_sensor['003'].keys()"
   ]
  },
  {
   "cell_type": "code",
   "execution_count": null,
   "id": "f3d5ed4b",
   "metadata": {},
   "outputs": [],
   "source": [
    "with open(osp.join(data_dir, \"scene_18_per_frame_annos.pkl\"), \"rb\") as f:\n",
    "    loaded_labels_per_sensor = pickle.load(f)\n",
    "len(loaded_labels_per_sensor['003'])"
   ]
  },
  {
   "cell_type": "code",
   "execution_count": null,
   "id": "39847764",
   "metadata": {},
   "outputs": [],
   "source": [
    "# remap for easier access\n",
    "loaded_labels_per_sensor_by_idx = {}\n",
    "for sensor, annos in loaded_labels_per_sensor.items():\n",
    "    loaded_labels_per_sensor_by_idx[sensor] = {anno['timestep']: anno['annotations'] for anno in annos}\n",
    "loaded_labels_per_sensor_by_idx['003'].keys()"
   ]
  },
  {
   "cell_type": "code",
   "execution_count": null,
   "id": "eaf97cfb",
   "metadata": {},
   "outputs": [],
   "source": [
    "for ts in [186, 187, 188, 189]:\n",
    "    interpolated_label_frames_sensor['003'][ts] = loaded_labels_per_sensor_by_idx['003'][ts]\n",
    "interpolated_label_frames_sensor['003'].keys()"
   ]
  },
  {
   "cell_type": "code",
   "execution_count": null,
   "id": "6d5b0b6d",
   "metadata": {},
   "outputs": [],
   "source": [
    "# visualize over scene\n",
    "timestep = 200\n",
    "sensor = '004'\n",
    "\n",
    "annos = interpolated_label_frames_sensor[sensor][timestep]\n",
    "info = scene_infos[timestep]\n",
    "annos, info"
   ]
  },
  {
   "cell_type": "code",
   "execution_count": null,
   "id": "45a945c3",
   "metadata": {},
   "outputs": [],
   "source": [
    "info = scene_infos[timestep][sensor]\n",
    "pcd_filepath = osp.join(\"/media/kluo/My Passport/\", info['pcd_filepath'])\n",
    "pc = o3d.io.read_point_cloud(pcd_filepath)\n",
    "pc.paint_uniform_color(np.array([0, 102, 255]) / 255.)\n",
    "points = np.array(pc.points)\n",
    "points.shape, pcd_filepath"
   ]
  },
  {
   "cell_type": "code",
   "execution_count": null,
   "id": "f0aa119b",
   "metadata": {},
   "outputs": [],
   "source": [
    "# convert annotations\n",
    "samples = []\n",
    "print(timestep)\n",
    "for i in range(len(annos)):\n",
    "    category = annos[i]['category_id']\n",
    "    size = np.array([annos[i]['dimensions']['x'], annos[i]['dimensions']['y'], annos[i]['dimensions']['z']])\n",
    "    center = np.array([annos[i]['position']['x'], annos[i]['position']['y'], annos[i]['position']['z']])\n",
    "    rotation = Quaternion(annos[i]['rotation']['qw'], annos[i]['rotation']['qx'],annos[i]['rotation']['qy'],annos[i]['rotation']['qz'],)\n",
    "    r = rotation.rotation_matrix\n",
    "    sample_3d = o3d.geometry.OrientedBoundingBox(center, r, size)\n",
    "    sample_3d.color = [0,0,0]  #category_to_color_map[int(category)]\n",
    "    samples.append(sample_3d)\n",
    "    \n",
    "o3d.visualization.draw_geometries([pc] + samples)"
   ]
  },
  {
   "cell_type": "code",
   "execution_count": null,
   "id": "0b94bab5",
   "metadata": {},
   "outputs": [],
   "source": [
    "sensor_to_rgb_map = {'003': np.array([204, 102, 153]), \n",
    "                     '004': np.array([255, 153, 51]),\n",
    "                     'laser': np.array([255, 255, 153]), \n",
    "                     'top': np.array([0, 102, 255]), \n",
    "                     'dome': np.array([0, 204, 102])}"
   ]
  },
  {
   "cell_type": "code",
   "execution_count": null,
   "id": "3227e3f1",
   "metadata": {},
   "outputs": [],
   "source": [
    "# GENERATE VIDEO AT HIGHER FREQ\n",
    "for sensor in ['dome']:\n",
    "    save_dir = f\"./video_vis_interpolated_{sensor}/\"\n",
    "    timesteps = [13, 72]\n",
    "\n",
    "#     timesteps = list(loaded_labels_per_sensor_by_idx[sensor])\n",
    "    timesteps.sort()\n",
    "\n",
    "    for timestep in timesteps:\n",
    "        print(timestep)\n",
    "        vis = o3d.visualization.Visualizer()\n",
    "        vis.create_window()\n",
    "\n",
    "        vis.set_full_screen(True)\n",
    "        vis.get_render_option().background_color = [0.01, 0, 0]\n",
    "        vis.get_render_option().point_size = 1.5\n",
    "\n",
    "        annos = loaded_labels_per_sensor_by_idx[sensor][timestep]\n",
    "        info = scene_infos[timestep][sensor]\n",
    "\n",
    "        # load points\n",
    "        pcd_filepath = osp.join(\"/media/kluo/My Passport/\", info['pcd_filepath'])\n",
    "        pc = o3d.io.read_point_cloud(pcd_filepath)\n",
    "        pc.paint_uniform_color(sensor_to_rgb_map[sensor] / 255.)\n",
    "        vis.add_geometry(pc)  # add point cloud\n",
    "    #     timestep = info['dome']['pcd_filepath'].split(\"/\")[-1].split(\"_\")[1]\n",
    "    #     merged_pcd_filepath = osp.join(data_dir, f\"MergedPointCloud/mini_{scene_id}/\", f\"merged_{timestep}.pcd\")\n",
    "    #     merged_pc = o3d.io.read_point_cloud(merged_pcd_filepath)\n",
    "    #     vis.add_geometry(merged_pc)  # add point cloud\n",
    "\n",
    "        # convert annotations\n",
    "        for i in range(len(annos)):\n",
    "            category = annos[i]['category_id']\n",
    "            size = np.array([annos[i]['dimensions']['x'], annos[i]['dimensions']['y'], annos[i]['dimensions']['z']])\n",
    "            center = np.array([annos[i]['position']['x'], annos[i]['position']['y'], annos[i]['position']['z']])\n",
    "            rotation = Quaternion(annos[i]['rotation']['qw'], annos[i]['rotation']['qx'],annos[i]['rotation']['qy'],annos[i]['rotation']['qz'],)\n",
    "            r = rotation.rotation_matrix\n",
    "            sample_3d = o3d.geometry.OrientedBoundingBox(center, r, size)\n",
    "            sample_3d.color = category_to_color_map[int(category)]\n",
    "            vis.add_geometry(sample_3d)\n",
    "\n",
    "        # add or update geometry objects\n",
    "        # vis.add_geometry([merged_pc] + samples)  # add point cloud\n",
    "        vis.set_view_status(view_status_by_sensor[sensor])\n",
    "        # update o3d window\n",
    "        if not vis.poll_events():\n",
    "            break\n",
    "        vis.update_renderer()\n",
    "        time.sleep(2.)\n",
    "        vis.capture_screen_image(osp.join(save_dir, \"%03d.jpg\" % timestep))\n",
    "        time.sleep(0.5)\n",
    "\n",
    "        vis.close()\n",
    "        vis.destroy_window()"
   ]
  },
  {
   "cell_type": "markdown",
   "id": "e08b3287",
   "metadata": {},
   "source": [
    "# Transform bounding boxes into each frame"
   ]
  },
  {
   "cell_type": "code",
   "execution_count": null,
   "id": "836a636e",
   "metadata": {},
   "outputs": [],
   "source": [
    "def translate_and_rotate_position(p_o, p_s, q_s):\n",
    "    \"\"\"Translate and rotate position of object O relative to system S.\"\"\"\n",
    "    # Translate\n",
    "    p_relative = np.array(p_o) - np.array(p_s)\n",
    "    \n",
    "    # Rotate using the inverse of q_s\n",
    "    q_s_inv = q_s.inverse\n",
    "    p_rotated = q_s_inv.rotate(p_relative)\n",
    "    # p_rotated = rotate_vector(p_relative, q_s_inv)\n",
    "    \n",
    "    return p_rotated\n",
    "\n",
    "def relative_orientation(q_o, q_s):\n",
    "    \"\"\"Calculate the relative orientation of O with respect to S.\"\"\"\n",
    "    return q_s.inverse * q_o\n",
    "\n",
    "# Example usage:\n",
    "p_o = (1, 2, 3)  # Position of object O\n",
    "p_s = (4, 5, 6)  # Position of system S\n",
    "q_o = Quaternion(axis=[0, 1, 0], angle=np.pi/2)  # Orientation of object O\n",
    "q_s = Quaternion(axis=[0, 0, 1], angle=np.pi/4)  # Orientation of system S\n",
    "\n",
    "# Convert position\n",
    "new_position = translate_and_rotate_position(p_o, p_s, q_s)\n",
    "print(\"New position:\", new_position)\n",
    "\n",
    "# Convert orientation\n",
    "new_orientation = relative_orientation(q_o, q_s)\n",
    "print(\"New orientation:\", new_orientation)"
   ]
  },
  {
   "cell_type": "code",
   "execution_count": null,
   "id": "597ee3d3",
   "metadata": {},
   "outputs": [],
   "source": [
    "# w, x, y, z\n",
    "type(new_orientation), new_orientation.elements"
   ]
  },
  {
   "cell_type": "code",
   "execution_count": null,
   "id": "5f6a5134",
   "metadata": {},
   "outputs": [],
   "source": [
    "len(interpolated_label_frames)"
   ]
  },
  {
   "cell_type": "code",
   "execution_count": null,
   "id": "c21e837e",
   "metadata": {
    "scrolled": true
   },
   "outputs": [],
   "source": [
    "interpolated_label_frames[0]"
   ]
  },
  {
   "cell_type": "code",
   "execution_count": null,
   "id": "6ee13c5e",
   "metadata": {},
   "outputs": [],
   "source": [
    "# info['003'], info['top']\n",
    "info['top']"
   ]
  },
  {
   "cell_type": "code",
   "execution_count": null,
   "id": "cbe9a6bc",
   "metadata": {
    "scrolled": true
   },
   "outputs": [],
   "source": [
    "annos"
   ]
  },
  {
   "cell_type": "code",
   "execution_count": null,
   "id": "36b10bb4",
   "metadata": {},
   "outputs": [],
   "source": [
    "labels_per_sensor = {}\n",
    "# for each frame\n",
    "# for each sensor\n",
    "# convert label object to sensor coord\n",
    "# concatenate\n",
    "# save scene_info idx\n",
    "for timestep in range(len(interpolated_label_frames)):\n",
    "    annos = interpolated_label_frames[timestep]['annotations']\n",
    "    info = scene_infos[timestep]\n",
    "    \n",
    "    for key, val in info.items():\n",
    "        if key == \"labeled\":\n",
    "            continue\n",
    "        # else, key is a sensor\n",
    "        transl_s = np.array([val[\"pose_translation\"]['x'], val[\"pose_translation\"]['y'], val[\"pose_translation\"]['z']])\n",
    "        rota_s = Quaternion(val[\"pose_rotation\"]['w'], val[\"pose_rotation\"]['x'], val[\"pose_rotation\"]['y'], val[\"pose_rotation\"]['z'])\n",
    "        \n",
    "        sensor_annos = copy.deepcopy(annos)\n",
    "        # convert annotations\n",
    "        for i in range(len(sensor_annos)):\n",
    "            center_o = np.array([sensor_annos[i]['position']['x'], sensor_annos[i]['position']['y'], sensor_annos[i]['position']['z']])\n",
    "            rota_o = Quaternion(sensor_annos[i]['rotation']['qw'], sensor_annos[i]['rotation']['qx'], sensor_annos[i]['rotation']['qy'], sensor_annos[i]['rotation']['qz'],)\n",
    "            new_position = translate_and_rotate_position(center_o, transl_s, rota_s)\n",
    "            new_orientation = relative_orientation(rota_o, rota_s)\n",
    "            \n",
    "            sensor_annos[i]['position']['x'] = new_position[0]\n",
    "            sensor_annos[i]['position']['y'] = new_position[1]\n",
    "            sensor_annos[i]['position']['z'] = new_position[2]\n",
    "            \n",
    "            qw, qx, qy, qz = new_orientation.elements\n",
    "            sensor_annos[i]['rotation']['qx'] = qx\n",
    "            sensor_annos[i]['rotation']['qy'] = qy\n",
    "            sensor_annos[i]['rotation']['qz'] = qz\n",
    "            sensor_annos[i]['rotation']['qw'] = qw\n",
    "            sensor_annos[i]['yaw'] = quaternion_yaw(new_orientation)\n",
    "        \n",
    "        if key not in labels_per_sensor:\n",
    "            labels_per_sensor[key] = [{'annotations': sensor_annos, 'timestep': timestep}]\n",
    "        else:\n",
    "            labels_per_sensor[key].append({'annotations': sensor_annos, 'timestep': timestep})"
   ]
  },
  {
   "cell_type": "code",
   "execution_count": null,
   "id": "123157cb",
   "metadata": {},
   "outputs": [],
   "source": [
    "labels_per_sensor.keys()"
   ]
  },
  {
   "cell_type": "code",
   "execution_count": null,
   "id": "060b7b3e",
   "metadata": {
    "scrolled": true
   },
   "outputs": [],
   "source": [
    "len(labels_per_sensor['004']), labels_per_sensor['004'][0]"
   ]
  },
  {
   "cell_type": "code",
   "execution_count": null,
   "id": "5b01e7cb",
   "metadata": {},
   "outputs": [],
   "source": [
    "timestep = 200\n",
    "sensor = 'top'\n",
    "info = scene_infos[timestep][sensor]\n",
    "pcd_filepath = osp.join(\"/media/kluo/My Passport/\", info['pcd_filepath'])\n",
    "pc = o3d.io.read_point_cloud(pcd_filepath)\n",
    "points = np.array(pc.points)\n",
    "points.shape, pcd_filepath"
   ]
  },
  {
   "cell_type": "code",
   "execution_count": null,
   "id": "e38081a7",
   "metadata": {},
   "outputs": [],
   "source": [
    "timestep_to_idx_map = {anno['timestep']: i for i, anno in enumerate(labels_per_sensor[sensor])}"
   ]
  },
  {
   "cell_type": "code",
   "execution_count": null,
   "id": "8b2d1b94",
   "metadata": {},
   "outputs": [],
   "source": [
    "# convert annotations\n",
    "samples = []\n",
    "timestep\n",
    "annos = labels_per_sensor[sensor][timestep_to_idx_map[timestep]]['annotations']\n",
    "for i in range(len(annos)):\n",
    "    category = annos[i]['category_id']\n",
    "    size = np.array([annos[i]['dimensions']['x'], annos[i]['dimensions']['y'], annos[i]['dimensions']['z']])\n",
    "    center = np.array([annos[i]['position']['x'], annos[i]['position']['y'], annos[i]['position']['z']])\n",
    "    rotation = Quaternion(annos[i]['rotation']['qw'], annos[i]['rotation']['qx'],annos[i]['rotation']['qy'],annos[i]['rotation']['qz'],)\n",
    "    r = rotation.rotation_matrix\n",
    "    sample_3d = o3d.geometry.OrientedBoundingBox(center, r, size)\n",
    "    sample_3d.color = [0,0,0]  #category_to_color_map[int(category)]\n",
    "    samples.append(sample_3d)"
   ]
  },
  {
   "cell_type": "code",
   "execution_count": null,
   "id": "7652a32a",
   "metadata": {},
   "outputs": [],
   "source": [
    "o3d.visualization.draw_geometries([pc] + samples)"
   ]
  },
  {
   "cell_type": "code",
   "execution_count": null,
   "id": "e462694c",
   "metadata": {},
   "outputs": [],
   "source": [
    "import pickle"
   ]
  },
  {
   "cell_type": "code",
   "execution_count": null,
   "id": "cd83c151",
   "metadata": {},
   "outputs": [],
   "source": [
    "with open(\"scene_18_per_frame_annos.pkl\", \"wb\") as f:\n",
    "    pickle.dump(labels_per_sensor, f)"
   ]
  },
  {
   "cell_type": "code",
   "execution_count": null,
   "id": "193fac14",
   "metadata": {},
   "outputs": [],
   "source": [
    "# check it's saved properly\n",
    "\n",
    "with open(\"scene_18_per_frame_annos.pkl\", \"rb\") as f:\n",
    "    loaded_labels_per_sensor = pickle.load(f)\n",
    "\n",
    "loaded_labels_per_sensor.keys()"
   ]
  },
  {
   "cell_type": "code",
   "execution_count": null,
   "id": "3f3cf004",
   "metadata": {},
   "outputs": [],
   "source": [
    "for k, v in loaded_labels_per_sensor.items():\n",
    "    print(len(v))"
   ]
  },
  {
   "cell_type": "code",
   "execution_count": null,
   "id": "cb1b3d65",
   "metadata": {},
   "outputs": [],
   "source": []
  }
 ],
 "metadata": {
  "kernelspec": {
   "display_name": "Python 3 (ipykernel)",
   "language": "python",
   "name": "python3"
  },
  "language_info": {
   "codemirror_mode": {
    "name": "ipython",
    "version": 3
   },
   "file_extension": ".py",
   "mimetype": "text/x-python",
   "name": "python",
   "nbconvert_exporter": "python",
   "pygments_lexer": "ipython3",
   "version": "3.11.5"
  }
 },
 "nbformat": 4,
 "nbformat_minor": 5
}
