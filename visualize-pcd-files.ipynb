{
 "cells": [
  {
   "cell_type": "code",
   "execution_count": 1,
   "id": "7cd41c29",
   "metadata": {},
   "outputs": [],
   "source": [
    "%load_ext autoreload\n",
    "%autoreload 2"
   ]
  },
  {
   "cell_type": "code",
   "execution_count": 2,
   "id": "20335ec2",
   "metadata": {},
   "outputs": [
    {
     "name": "stdout",
     "output_type": "stream",
     "text": [
      "Jupyter environment detected. Enabling Open3D WebVisualizer.\n",
      "[Open3D INFO] WebRTC GUI backend enabled.\n",
      "[Open3D INFO] WebRTCWindowSystem: HTTP handshake server disabled.\n"
     ]
    }
   ],
   "source": [
    "import numpy as np \n",
    "import open3d as o3d\n",
    "import os.path as osp\n",
    "import os\n",
    "import time"
   ]
  },
  {
   "cell_type": "code",
   "execution_count": 5,
   "id": "18905a7e",
   "metadata": {},
   "outputs": [],
   "source": [
    "pc = o3d.io.read_point_cloud(f'/media/kluo/Stephany/v2x_dataset/MergedPointCloud/mini_7/merged_50.pcd')\n",
    "points = np.asarray(pc.points)\n",
    "colors = np.asarray(pc.colors)"
   ]
  },
  {
   "cell_type": "code",
   "execution_count": 7,
   "id": "4926ba47",
   "metadata": {},
   "outputs": [
    {
     "data": {
      "text/plain": [
       "array([[0.8, 0.4, 0.6],\n",
       "       [0.8, 0.4, 0.6],\n",
       "       [0.8, 0.4, 0.6],\n",
       "       ...,\n",
       "       [1. , 0.6, 0.2],\n",
       "       [1. , 0.6, 0.2],\n",
       "       [1. , 0.6, 0.2]])"
      ]
     },
     "execution_count": 7,
     "metadata": {},
     "output_type": "execute_result"
    }
   ],
   "source": [
    "colors"
   ]
  },
  {
   "cell_type": "code",
   "execution_count": 16,
   "id": "3f5ee425",
   "metadata": {},
   "outputs": [],
   "source": [
    "# view_status = \"\"\"{\n",
    "# \t\"class_name\" : \"ViewTrajectory\",\n",
    "# \t\"interval\" : 29,\n",
    "# \t\"is_loop\" : false,\n",
    "# \t\"trajectory\" : \n",
    "# \t[\n",
    "# \t\t{\n",
    "# \t\t\t\"boundingbox_max\" : [ 218.3385009765625, 76.248146057128906, 20.960601806640625 ],\n",
    "# \t\t\t\"boundingbox_min\" : [ -180.83258056640625, -149.74227905273438, -11.554059028625488 ],\n",
    "# \t\t\t\"field_of_view\" : 60.0,\n",
    "# \t\t\t\"front\" : [ 0.0037887345655083175, -0.026423238908849973, 0.99964366548083428 ],\n",
    "# \t\t\t\"lookat\" : [ -28.386351918275182, -61.092354458115807, 1.0199136050344466 ],\n",
    "# \t\t\t\"up\" : [ -0.18663836077341517, 0.98206672189830169, 0.026666008845301955 ],\n",
    "# \t\t\t\"zoom\" : 0.13999999999999962\n",
    "# \t\t}\n",
    "# \t],\n",
    "# \t\"version_major\" : 1,\n",
    "# \t\"version_minor\" : 0\n",
    "# }\"\"\"\n",
    "\n",
    "view_status = \"\"\"{\n",
    "\t\"class_name\" : \"ViewTrajectory\",\n",
    "\t\"interval\" : 29,\n",
    "\t\"is_loop\" : false,\n",
    "\t\"trajectory\" : \n",
    "\t[\n",
    "\t\t{\n",
    "\t\t\t\"boundingbox_max\" : [ 218.3385009765625, 76.248146057128906, 20.960601806640625 ],\n",
    "\t\t\t\"boundingbox_min\" : [ -180.83258056640625, -149.74227905273438, -11.554059028625488 ],\n",
    "\t\t\t\"field_of_view\" : 60.0,\n",
    "\t\t\t\"front\" : [ 0.14969908237785134, -0.80852446648900111, 0.56910312933940677 ],\n",
    "\t\t\t\"lookat\" : [ -33.459614649965793, -65.170023496217837, -3.7534205763743964 ],\n",
    "\t\t\t\"up\" : [ -0.072208736619961217, 0.56511189561377617, 0.82184818780085778 ],\n",
    "\t\t\t\"zoom\" : 0.059999999999999609\n",
    "\t\t}\n",
    "\t],\n",
    "\t\"version_major\" : 1,\n",
    "\t\"version_minor\" : 0\n",
    "}\"\"\""
   ]
  },
  {
   "cell_type": "code",
   "execution_count": 17,
   "id": "6f8ef226",
   "metadata": {},
   "outputs": [],
   "source": [
    "# scene_idx = 7\n",
    "max_frames = 251\n",
    "\n",
    "vis_range_start = 50\n",
    "vis_range_end = 250\n",
    "# save_dir = f\"./vis_{scene_idx}/\"\n",
    "# os.makedirs(save_dir, exist_ok=True)"
   ]
  },
  {
   "cell_type": "code",
   "execution_count": 21,
   "id": "eceaf071",
   "metadata": {},
   "outputs": [],
   "source": [
    "for scene_idx in range(28, 38):\n",
    "    save_dir = f\"./vis_{scene_idx}/\"\n",
    "    os.makedirs(save_dir, exist_ok=True)\n",
    "    \n",
    "    vis = o3d.visualization.Visualizer()\n",
    "    vis.create_window()\n",
    "\n",
    "    vis.set_full_screen(True)\n",
    "    vis.get_render_option().background_color = [0.01, 0, 0]\n",
    "    vis.get_render_option().point_size = 1.5\n",
    "\n",
    "    # create pcd object\n",
    "    point_cloud_o3d = o3d.geometry.PointCloud()  # Important to use same object for repeated call to update_geometry\n",
    "\n",
    "    start_time = time.time()\n",
    "    prev_sec = -1\n",
    "    idx = 45\n",
    "    first_call = True\n",
    "\n",
    "    while idx < max_frames:\n",
    "        curr_sec = int(time.time() - start_time)\n",
    "        if curr_sec - prev_sec >= 0.01:  # Check if 1 second has passed\n",
    "            prev_sec = curr_sec\n",
    "\n",
    "            # Load pointcloud\n",
    "            pc = o3d.io.read_point_cloud(f'/media/kluo/Stephany/v2x_dataset/MergedPointCloud/mini_{scene_idx}/merged_{idx}.pcd')\n",
    "            points = np.asarray(pc.points)\n",
    "            colors = np.asarray(pc.colors)\n",
    "\n",
    "            # Modify original pointcloud a little to show a video\n",
    "            # Note - Always edit in-place.\n",
    "            point_cloud_o3d.points = o3d.utility.Vector3dVector(points)\n",
    "            point_cloud_o3d.colors = o3d.utility.Vector3dVector(colors)\n",
    "\n",
    "            # add or update geometry objects\n",
    "            if first_call:\n",
    "                vis.add_geometry(point_cloud_o3d)  # add point cloud\n",
    "                vis.set_view_status(view_status)\n",
    "                first_call = False  # change flag\n",
    "            else:\n",
    "                vis.update_geometry(point_cloud_o3d)  # update point cloud\n",
    "\n",
    "            if idx >= vis_range_start and idx < vis_range_end:\n",
    "                vis.capture_screen_image(osp.join(save_dir, \"%03d.jpg\" % idx))\n",
    "\n",
    "            idx += 1\n",
    "\n",
    "        # update o3d window\n",
    "        if not vis.poll_events():\n",
    "            break\n",
    "        vis.update_renderer()\n",
    "\n",
    "    vis.close()\n",
    "    vis.destroy_window()"
   ]
  }
 ],
 "metadata": {
  "kernelspec": {
   "display_name": "Python 3 (ipykernel)",
   "language": "python",
   "name": "python3"
  },
  "language_info": {
   "codemirror_mode": {
    "name": "ipython",
    "version": 3
   },
   "file_extension": ".py",
   "mimetype": "text/x-python",
   "name": "python",
   "nbconvert_exporter": "python",
   "pygments_lexer": "ipython3",
   "version": "3.11.5"
  }
 },
 "nbformat": 4,
 "nbformat_minor": 5
}
